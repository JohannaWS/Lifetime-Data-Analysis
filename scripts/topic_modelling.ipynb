{
  "nbformat": 4,
  "nbformat_minor": 0,
  "metadata": {
    "colab": {
      "provenance": [],
      "collapsed_sections": [
        "do5VAushVvBB"
      ],
      "machine_shape": "hm"
    },
    "kernelspec": {
      "name": "python3",
      "display_name": "Python 3"
    },
    "language_info": {
      "name": "python"
    },
    "gpuClass": "standard"
  },
  "cells": [
    {
      "cell_type": "markdown",
      "source": [
        "#### Imports"
      ],
      "metadata": {
        "id": "CYallZU4Vmiz"
      }
    },
    {
      "cell_type": "code",
      "source": [
        "import json\n",
        "import nltk\n",
        "from nltk.collocations import *\n",
        "import datetime as dt\n",
        "import locale\n",
        "import spacy\n",
        "from tqdm import tqdm\n",
        "import pprint\n",
        "import pandas as pd\n",
        "from ast import literal_eval\n",
        "import os\n",
        "import gensim\n",
        "import gensim.corpora as corpora\n",
        "from pprint import pprint\n",
        "from tqdm import tqdm \n"
      ],
      "metadata": {
        "id": "XVDupKhjVzJw"
      },
      "execution_count": 1,
      "outputs": []
    },
    {
      "cell_type": "code",
      "source": [
        "!python -m spacy download de_core_news_lg"
      ],
      "metadata": {
        "id": "pxxX3cKAWJsY",
        "colab": {
          "base_uri": "https://localhost:8080/"
        },
        "outputId": "b9f4248d-68b7-4727-e88c-5faa87027363"
      },
      "execution_count": 2,
      "outputs": [
        {
          "output_type": "stream",
          "name": "stdout",
          "text": [
            "2023-05-03 14:42:21.432669: W tensorflow/compiler/tf2tensorrt/utils/py_utils.cc:38] TF-TRT Warning: Could not find TensorRT\n",
            "Looking in indexes: https://pypi.org/simple, https://us-python.pkg.dev/colab-wheels/public/simple/\n",
            "Collecting de-core-news-lg==3.5.0\n",
            "  Downloading https://github.com/explosion/spacy-models/releases/download/de_core_news_lg-3.5.0/de_core_news_lg-3.5.0-py3-none-any.whl (567.8 MB)\n",
            "\u001b[2K     \u001b[90m━━━━━━━━━━━━━━━━━━━━━━━━━━━━━━━━━━━━━━━\u001b[0m \u001b[32m567.8/567.8 MB\u001b[0m \u001b[31m2.6 MB/s\u001b[0m eta \u001b[36m0:00:00\u001b[0m\n",
            "\u001b[?25hRequirement already satisfied: spacy<3.6.0,>=3.5.0 in /usr/local/lib/python3.10/dist-packages (from de-core-news-lg==3.5.0) (3.5.2)\n",
            "Requirement already satisfied: packaging>=20.0 in /usr/local/lib/python3.10/dist-packages (from spacy<3.6.0,>=3.5.0->de-core-news-lg==3.5.0) (23.1)\n",
            "Requirement already satisfied: langcodes<4.0.0,>=3.2.0 in /usr/local/lib/python3.10/dist-packages (from spacy<3.6.0,>=3.5.0->de-core-news-lg==3.5.0) (3.3.0)\n",
            "Requirement already satisfied: murmurhash<1.1.0,>=0.28.0 in /usr/local/lib/python3.10/dist-packages (from spacy<3.6.0,>=3.5.0->de-core-news-lg==3.5.0) (1.0.9)\n",
            "Requirement already satisfied: cymem<2.1.0,>=2.0.2 in /usr/local/lib/python3.10/dist-packages (from spacy<3.6.0,>=3.5.0->de-core-news-lg==3.5.0) (2.0.7)\n",
            "Requirement already satisfied: thinc<8.2.0,>=8.1.8 in /usr/local/lib/python3.10/dist-packages (from spacy<3.6.0,>=3.5.0->de-core-news-lg==3.5.0) (8.1.9)\n",
            "Requirement already satisfied: spacy-legacy<3.1.0,>=3.0.11 in /usr/local/lib/python3.10/dist-packages (from spacy<3.6.0,>=3.5.0->de-core-news-lg==3.5.0) (3.0.12)\n",
            "Requirement already satisfied: wasabi<1.2.0,>=0.9.1 in /usr/local/lib/python3.10/dist-packages (from spacy<3.6.0,>=3.5.0->de-core-news-lg==3.5.0) (1.1.1)\n",
            "Requirement already satisfied: numpy>=1.15.0 in /usr/local/lib/python3.10/dist-packages (from spacy<3.6.0,>=3.5.0->de-core-news-lg==3.5.0) (1.22.4)\n",
            "Requirement already satisfied: typer<0.8.0,>=0.3.0 in /usr/local/lib/python3.10/dist-packages (from spacy<3.6.0,>=3.5.0->de-core-news-lg==3.5.0) (0.7.0)\n",
            "Requirement already satisfied: pathy>=0.10.0 in /usr/local/lib/python3.10/dist-packages (from spacy<3.6.0,>=3.5.0->de-core-news-lg==3.5.0) (0.10.1)\n",
            "Requirement already satisfied: tqdm<5.0.0,>=4.38.0 in /usr/local/lib/python3.10/dist-packages (from spacy<3.6.0,>=3.5.0->de-core-news-lg==3.5.0) (4.65.0)\n",
            "Requirement already satisfied: srsly<3.0.0,>=2.4.3 in /usr/local/lib/python3.10/dist-packages (from spacy<3.6.0,>=3.5.0->de-core-news-lg==3.5.0) (2.4.6)\n",
            "Requirement already satisfied: preshed<3.1.0,>=3.0.2 in /usr/local/lib/python3.10/dist-packages (from spacy<3.6.0,>=3.5.0->de-core-news-lg==3.5.0) (3.0.8)\n",
            "Requirement already satisfied: requests<3.0.0,>=2.13.0 in /usr/local/lib/python3.10/dist-packages (from spacy<3.6.0,>=3.5.0->de-core-news-lg==3.5.0) (2.27.1)\n",
            "Requirement already satisfied: smart-open<7.0.0,>=5.2.1 in /usr/local/lib/python3.10/dist-packages (from spacy<3.6.0,>=3.5.0->de-core-news-lg==3.5.0) (6.3.0)\n",
            "Requirement already satisfied: catalogue<2.1.0,>=2.0.6 in /usr/local/lib/python3.10/dist-packages (from spacy<3.6.0,>=3.5.0->de-core-news-lg==3.5.0) (2.0.8)\n",
            "Requirement already satisfied: pydantic!=1.8,!=1.8.1,<1.11.0,>=1.7.4 in /usr/local/lib/python3.10/dist-packages (from spacy<3.6.0,>=3.5.0->de-core-news-lg==3.5.0) (1.10.7)\n",
            "Requirement already satisfied: spacy-loggers<2.0.0,>=1.0.0 in /usr/local/lib/python3.10/dist-packages (from spacy<3.6.0,>=3.5.0->de-core-news-lg==3.5.0) (1.0.4)\n",
            "Requirement already satisfied: jinja2 in /usr/local/lib/python3.10/dist-packages (from spacy<3.6.0,>=3.5.0->de-core-news-lg==3.5.0) (3.1.2)\n",
            "Requirement already satisfied: setuptools in /usr/local/lib/python3.10/dist-packages (from spacy<3.6.0,>=3.5.0->de-core-news-lg==3.5.0) (67.7.2)\n",
            "Requirement already satisfied: typing-extensions>=4.2.0 in /usr/local/lib/python3.10/dist-packages (from pydantic!=1.8,!=1.8.1,<1.11.0,>=1.7.4->spacy<3.6.0,>=3.5.0->de-core-news-lg==3.5.0) (4.5.0)\n",
            "Requirement already satisfied: charset-normalizer~=2.0.0 in /usr/local/lib/python3.10/dist-packages (from requests<3.0.0,>=2.13.0->spacy<3.6.0,>=3.5.0->de-core-news-lg==3.5.0) (2.0.12)\n",
            "Requirement already satisfied: urllib3<1.27,>=1.21.1 in /usr/local/lib/python3.10/dist-packages (from requests<3.0.0,>=2.13.0->spacy<3.6.0,>=3.5.0->de-core-news-lg==3.5.0) (1.26.15)\n",
            "Requirement already satisfied: certifi>=2017.4.17 in /usr/local/lib/python3.10/dist-packages (from requests<3.0.0,>=2.13.0->spacy<3.6.0,>=3.5.0->de-core-news-lg==3.5.0) (2022.12.7)\n",
            "Requirement already satisfied: idna<4,>=2.5 in /usr/local/lib/python3.10/dist-packages (from requests<3.0.0,>=2.13.0->spacy<3.6.0,>=3.5.0->de-core-news-lg==3.5.0) (3.4)\n",
            "Requirement already satisfied: blis<0.8.0,>=0.7.8 in /usr/local/lib/python3.10/dist-packages (from thinc<8.2.0,>=8.1.8->spacy<3.6.0,>=3.5.0->de-core-news-lg==3.5.0) (0.7.9)\n",
            "Requirement already satisfied: confection<1.0.0,>=0.0.1 in /usr/local/lib/python3.10/dist-packages (from thinc<8.2.0,>=8.1.8->spacy<3.6.0,>=3.5.0->de-core-news-lg==3.5.0) (0.0.4)\n",
            "Requirement already satisfied: click<9.0.0,>=7.1.1 in /usr/local/lib/python3.10/dist-packages (from typer<0.8.0,>=0.3.0->spacy<3.6.0,>=3.5.0->de-core-news-lg==3.5.0) (8.1.3)\n",
            "Requirement already satisfied: MarkupSafe>=2.0 in /usr/local/lib/python3.10/dist-packages (from jinja2->spacy<3.6.0,>=3.5.0->de-core-news-lg==3.5.0) (2.1.2)\n",
            "Installing collected packages: de-core-news-lg\n",
            "Successfully installed de-core-news-lg-3.5.0\n",
            "\u001b[38;5;2m✔ Download and installation successful\u001b[0m\n",
            "You can now load the package via spacy.load('de_core_news_lg')\n"
          ]
        }
      ]
    },
    {
      "cell_type": "code",
      "source": [
        "#NOTE: default version doesntwork in colab\n",
        "!pip install pyLDAvis==2.1.2"
      ],
      "metadata": {
        "id": "OSjvDfa5D8ZC",
        "colab": {
          "base_uri": "https://localhost:8080/"
        },
        "outputId": "9af0e7cf-1460-4363-bfb2-964d287d97f1"
      },
      "execution_count": 3,
      "outputs": [
        {
          "output_type": "stream",
          "name": "stdout",
          "text": [
            "Looking in indexes: https://pypi.org/simple, https://us-python.pkg.dev/colab-wheels/public/simple/\n",
            "Collecting pyLDAvis==2.1.2\n",
            "  Downloading pyLDAvis-2.1.2.tar.gz (1.6 MB)\n",
            "\u001b[2K     \u001b[90m━━━━━━━━━━━━━━━━━━━━━━━━━━━━━━━━━━━━━━━━\u001b[0m \u001b[32m1.6/1.6 MB\u001b[0m \u001b[31m3.4 MB/s\u001b[0m eta \u001b[36m0:00:00\u001b[0m\n",
            "\u001b[?25h  Preparing metadata (setup.py) ... \u001b[?25l\u001b[?25hdone\n",
            "Requirement already satisfied: wheel>=0.23.0 in /usr/local/lib/python3.10/dist-packages (from pyLDAvis==2.1.2) (0.40.0)\n",
            "Requirement already satisfied: numpy>=1.9.2 in /usr/local/lib/python3.10/dist-packages (from pyLDAvis==2.1.2) (1.22.4)\n",
            "Requirement already satisfied: scipy>=0.18.0 in /usr/local/lib/python3.10/dist-packages (from pyLDAvis==2.1.2) (1.10.1)\n",
            "Requirement already satisfied: pandas>=0.17.0 in /usr/local/lib/python3.10/dist-packages (from pyLDAvis==2.1.2) (1.5.3)\n",
            "Requirement already satisfied: joblib>=0.8.4 in /usr/local/lib/python3.10/dist-packages (from pyLDAvis==2.1.2) (1.2.0)\n",
            "Requirement already satisfied: jinja2>=2.7.2 in /usr/local/lib/python3.10/dist-packages (from pyLDAvis==2.1.2) (3.1.2)\n",
            "Requirement already satisfied: numexpr in /usr/local/lib/python3.10/dist-packages (from pyLDAvis==2.1.2) (2.8.4)\n",
            "Requirement already satisfied: pytest in /usr/local/lib/python3.10/dist-packages (from pyLDAvis==2.1.2) (7.2.2)\n",
            "Requirement already satisfied: future in /usr/local/lib/python3.10/dist-packages (from pyLDAvis==2.1.2) (0.18.3)\n",
            "Collecting funcy\n",
            "  Downloading funcy-2.0-py2.py3-none-any.whl (30 kB)\n",
            "Requirement already satisfied: MarkupSafe>=2.0 in /usr/local/lib/python3.10/dist-packages (from jinja2>=2.7.2->pyLDAvis==2.1.2) (2.1.2)\n",
            "Requirement already satisfied: pytz>=2020.1 in /usr/local/lib/python3.10/dist-packages (from pandas>=0.17.0->pyLDAvis==2.1.2) (2022.7.1)\n",
            "Requirement already satisfied: python-dateutil>=2.8.1 in /usr/local/lib/python3.10/dist-packages (from pandas>=0.17.0->pyLDAvis==2.1.2) (2.8.2)\n",
            "Requirement already satisfied: tomli>=1.0.0 in /usr/local/lib/python3.10/dist-packages (from pytest->pyLDAvis==2.1.2) (2.0.1)\n",
            "Requirement already satisfied: attrs>=19.2.0 in /usr/local/lib/python3.10/dist-packages (from pytest->pyLDAvis==2.1.2) (23.1.0)\n",
            "Requirement already satisfied: pluggy<2.0,>=0.12 in /usr/local/lib/python3.10/dist-packages (from pytest->pyLDAvis==2.1.2) (1.0.0)\n",
            "Requirement already satisfied: packaging in /usr/local/lib/python3.10/dist-packages (from pytest->pyLDAvis==2.1.2) (23.1)\n",
            "Requirement already satisfied: iniconfig in /usr/local/lib/python3.10/dist-packages (from pytest->pyLDAvis==2.1.2) (2.0.0)\n",
            "Requirement already satisfied: exceptiongroup>=1.0.0rc8 in /usr/local/lib/python3.10/dist-packages (from pytest->pyLDAvis==2.1.2) (1.1.1)\n",
            "Requirement already satisfied: six>=1.5 in /usr/local/lib/python3.10/dist-packages (from python-dateutil>=2.8.1->pandas>=0.17.0->pyLDAvis==2.1.2) (1.16.0)\n",
            "Building wheels for collected packages: pyLDAvis\n",
            "  Building wheel for pyLDAvis (setup.py) ... \u001b[?25l\u001b[?25hdone\n",
            "  Created wheel for pyLDAvis: filename=pyLDAvis-2.1.2-py2.py3-none-any.whl size=97736 sha256=066686b6410d4e4f07a97cc7407c91db9bbaa45f65133b639647ac9c6d345bb8\n",
            "  Stored in directory: /root/.cache/pip/wheels/d9/93/d6/16c95da19c32f037fd75135ea152d0df37254c25cd1a8b4b6c\n",
            "Successfully built pyLDAvis\n",
            "Installing collected packages: funcy, pyLDAvis\n",
            "Successfully installed funcy-2.0 pyLDAvis-2.1.2\n"
          ]
        }
      ]
    },
    {
      "cell_type": "markdown",
      "source": [
        "#### Read Data"
      ],
      "metadata": {
        "id": "Vwr8p0YQVpe4"
      }
    },
    {
      "cell_type": "code",
      "source": [
        "# connect with google drive\n",
        "from google.colab import drive\n",
        "drive.mount('/content/drive')"
      ],
      "metadata": {
        "colab": {
          "base_uri": "https://localhost:8080/"
        },
        "id": "Sq-tfVoNV9Vn",
        "outputId": "2ce4ef88-b394-4e77-87bc-562455b03b88"
      },
      "execution_count": 4,
      "outputs": [
        {
          "output_type": "stream",
          "name": "stdout",
          "text": [
            "Mounted at /content/drive\n"
          ]
        }
      ]
    },
    {
      "cell_type": "code",
      "source": [
        "#change cwd\n",
        "%cd drive/MyDrive/Work/Frontline/data\n",
        "#%cd /content/drive/MyDrive/data/"
      ],
      "metadata": {
        "id": "JZo05nte48yW",
        "outputId": "eaf83452-90b0-4b3a-cc24-62381ec867b6",
        "colab": {
          "base_uri": "https://localhost:8080/"
        }
      },
      "execution_count": 9,
      "outputs": [
        {
          "output_type": "stream",
          "name": "stdout",
          "text": [
            "/content/drive/.shortcut-targets-by-id/1WfnZsqpG1r110J63sMbfS5TpsDOkveiV/data\n"
          ]
        }
      ]
    },
    {
      "cell_type": "code",
      "source": [
        "# paths\n",
        "FILTERED_PATH=\"filtered_4_26\""
      ],
      "metadata": {
        "id": "bI87iJZopQK8"
      },
      "execution_count": 6,
      "outputs": []
    },
    {
      "cell_type": "code",
      "source": [
        "dfs = []\n",
        "\n",
        "# loop through files \n",
        "for filename in tqdm(os.listdir(FILTERED_PATH)):\n",
        "    # if csv file, load and add to dfs  \n",
        "    if filename.endswith(\".csv\"):\n",
        "        file_path = os.path.join(FILTERED_PATH, filename)\n",
        "        df = pd.read_csv(file_path, index_col=0, converters={\"text\":literal_eval})\n",
        "        dfs.append(df)\n",
        "\n",
        "# combine files in df\n",
        "df = pd.concat(dfs, ignore_index=True)"
      ],
      "metadata": {
        "id": "R0Bims7CWA4H",
        "outputId": "f23160f6-876a-4a20-8858-fb4ab5e6f4c1",
        "colab": {
          "base_uri": "https://localhost:8080/"
        }
      },
      "execution_count": 10,
      "outputs": [
        {
          "output_type": "stream",
          "name": "stderr",
          "text": [
            "100%|██████████| 207/207 [00:15<00:00, 13.76it/s]\n"
          ]
        }
      ]
    },
    {
      "cell_type": "markdown",
      "source": [
        "### Topic Modelling\n"
      ],
      "metadata": {
        "id": "gnp6TO19XUOC"
      }
    },
    {
      "cell_type": "markdown",
      "source": [
        "#### Prepare Data\n"
      ],
      "metadata": {
        "id": "x5W-YSNIWWeT"
      }
    },
    {
      "cell_type": "code",
      "source": [
        "# custom module\n",
        "import preprocessing"
      ],
      "metadata": {
        "id": "AWIDwI00zTLF"
      },
      "execution_count": 11,
      "outputs": []
    },
    {
      "cell_type": "code",
      "execution_count": 12,
      "metadata": {
        "id": "a91da867"
      },
      "outputs": [],
      "source": [
        "# Load model\n",
        "spacy_mod = spacy.load(\"de_core_news_lg\", disable=['ner', 'parser', 'tagger'])"
      ]
    },
    {
      "cell_type": "code",
      "source": [
        "# read custom stopwords\n",
        "\n",
        "# open list of custom stopwords\n",
        "custom_stop_words= open(\"custom_stopwords.txt\").read().split()\n",
        "\n",
        "# add custom stopwords to model\n",
        "for word in custom_stop_words:\n",
        "  spacy_mod.Defaults.stop_words.add(word)"
      ],
      "metadata": {
        "id": "JB_UeUu-t269"
      },
      "execution_count": 13,
      "outputs": []
    },
    {
      "cell_type": "code",
      "source": [
        "smaller_df=df.iloc[:10000,:]"
      ],
      "metadata": {
        "id": "WUHR2Qu4KB-y"
      },
      "execution_count": 16,
      "outputs": []
    },
    {
      "cell_type": "code",
      "execution_count": 18,
      "metadata": {
        "colab": {
          "base_uri": "https://localhost:8080/"
        },
        "id": "IZhcGtp_VdhH",
        "outputId": "889f5e09-cbb6-4f74-9666-40ed3a9a75b1"
      },
      "outputs": [
        {
          "output_type": "stream",
          "name": "stderr",
          "text": [
            "10000it [05:01, 33.16it/s]\n"
          ]
        }
      ],
      "source": [
        "# convert corpus to language object\n",
        "spacy_lang = []\n",
        "for i, doc in tqdm(smaller_df.iterrows()): \n",
        "  spacy_lang.append(spacy_mod(\"\".join(doc['text'])))"
      ]
    },
    {
      "cell_type": "code",
      "source": [
        "# preprocess: remove stopwords\n",
        "spacy_cleaned = []\n",
        "for doc in tqdm(spacy_lang): \n",
        "    spacy_cleaned.append(preprocessing.preprocess(doc, remove_ent=True))"
      ],
      "metadata": {
        "colab": {
          "base_uri": "https://localhost:8080/"
        },
        "id": "VSbsu2D3XJDI",
        "outputId": "bc013133-0c8a-4171-d8df-1e546eb254d9"
      },
      "execution_count": 19,
      "outputs": [
        {
          "output_type": "stream",
          "name": "stderr",
          "text": [
            "100%|██████████| 10000/10000 [00:05<00:00, 1974.04it/s]\n"
          ]
        }
      ]
    },
    {
      "cell_type": "markdown",
      "source": [
        "#### Topic Analysis"
      ],
      "metadata": {
        "id": "mPPO8L1BXgDR"
      }
    },
    {
      "cell_type": "code",
      "source": [
        "import pyLDAvis\n",
        "import pyLDAvis.gensim\n",
        "import pickle  "
      ],
      "metadata": {
        "id": "Ex6AzeOQHViw"
      },
      "execution_count": null,
      "outputs": []
    },
    {
      "cell_type": "code",
      "source": [
        "# Create Dictionary\n",
        "id2word = corpora.Dictionary(spacy_cleaned)\n",
        "\n",
        "# Create Corpus\n",
        "texts = spacy_cleaned\n",
        "\n",
        "# Term Document Frequency\n",
        "corpus = [id2word.doc2bow(text) for text in texts]"
      ],
      "metadata": {
        "id": "YimmnX9DXj05"
      },
      "execution_count": 20,
      "outputs": []
    },
    {
      "cell_type": "code",
      "source": [
        "# number of topics\n",
        "num_topics = 5\n",
        "# Build LDA model\n",
        "lda_model = gensim.models.LdaMulticore(corpus=corpus,id2word=id2word, num_topics=num_topics)\n",
        "# Print the key words for each topic\n",
        "pprint(lda_model.print_topics())\n",
        "doc_lda = lda_model[corpus]"
      ],
      "metadata": {
        "colab": {
          "base_uri": "https://localhost:8080/"
        },
        "id": "H_QskpU6XzBa",
        "outputId": "32602fdf-7787-457e-8f98-45674891513a"
      },
      "execution_count": 21,
      "outputs": [
        {
          "output_type": "stream",
          "name": "stderr",
          "text": [
            "WARNING:gensim.models.ldamulticore:too few updates, training might not converge; consider increasing the number of passes or iterations to improve accuracy\n"
          ]
        },
        {
          "output_type": "stream",
          "name": "stdout",
          "text": [
            "[(0,\n",
            "  '0.009*\"gewalt\" + 0.008*\"frauen\" + 0.005*\"kinder\" + 0.004*\"häuslicher\" + '\n",
            "  '0.004*\"polizei\" + 0.004*\"menschen\" + 0.004*\"frau\" + 0.004*\"mann\" + '\n",
            "  '0.004*\"opfer\" + 0.003*\"telefon\"'),\n",
            " (1,\n",
            "  '0.020*\"telefon\" + 0.014*\"gewalt\" + 0.012*\"frauen\" + 0.006*\"häuslicher\" + '\n",
            "  '0.006*\"bereitschaftsdienst\" + 0.004*\"beratung\" + 0.004*\"prozent\" + '\n",
            "  '0.004*\"kinder\" + 0.004*\"polizei\" + 0.004*\"montag\"'),\n",
            " (2,\n",
            "  '0.030*\"telefon\" + 0.016*\"bereitschaftsdienst\" + 0.016*\"gewalt\" + '\n",
            "  '0.012*\"frauen\" + 0.009*\"häuslicher\" + 0.006*\"do\" + 0.006*\"montag\" + '\n",
            "  '0.006*\"jugendtelefon\" + 0.006*\"beratung\" + 0.005*\"interventionsstelle\"'),\n",
            " (3,\n",
            "  '0.033*\"telefon\" + 0.017*\"mi\" + 0.016*\"bereitschaftsdienst\" + 0.015*\"gewalt\" '\n",
            "  '+ 0.014*\"do\" + 0.008*\"frauen\" + 0.008*\"häuslicher\" + 0.006*\"montag\" + '\n",
            "  '0.006*\"jugendtelefon\" + 0.006*\"polizei\"'),\n",
            " (4,\n",
            "  '0.014*\"telefon\" + 0.010*\"gewalt\" + 0.009*\"frauen\" + 0.004*\"frau\" + '\n",
            "  '0.004*\"kinder\" + 0.004*\"menschen\" + 0.004*\"beratung\" + 0.003*\"donnerstag\" + '\n",
            "  '0.003*\"mann\" + 0.003*\"freitag\"')]\n"
          ]
        }
      ]
    },
    {
      "cell_type": "code",
      "source": [
        "pyLDAvis.enable_notebook()\n",
        "pyLDAvis.gensim.prepare(lda_model, corpus, id2word)"
      ],
      "metadata": {
        "id": "SJhc4baCakud",
        "colab": {
          "base_uri": "https://localhost:8080/",
          "height": 897
        },
        "outputId": "efeec11d-57b9-42c2-e231-d19c38e57aed"
      },
      "execution_count": 22,
      "outputs": [
        {
          "output_type": "stream",
          "name": "stderr",
          "text": [
            "/usr/local/lib/python3.10/dist-packages/pyLDAvis/_prepare.py:232: FutureWarning: In a future version of pandas all arguments of DataFrame.drop except for the argument 'labels' will be keyword-only.\n",
            "  head(R).drop('saliency', 1)\n"
          ]
        },
        {
          "output_type": "execute_result",
          "data": {
            "text/plain": [
              "PreparedData(topic_coordinates=              x         y  topics  cluster       Freq\n",
              "topic                                                \n",
              "0     -0.056123 -0.001430       1        1  35.570021\n",
              "2      0.038649 -0.013374       2        1  20.861339\n",
              "1     -0.004070 -0.006649       3        1  16.562720\n",
              "4     -0.023657  0.008134       4        1  14.205388\n",
              "3      0.045201  0.013319       5        1  12.800532, topic_info=                     Term          Freq         Total Category  logprob  \\\n",
              "152               telefon  19137.000000  19137.000000  Default  30.0000   \n",
              "2396                   mi   3243.000000   3243.000000  Default  29.0000   \n",
              "46    bereitschaftsdienst   8068.000000   8068.000000  Default  28.0000   \n",
              "2394                   do   3470.000000   3470.000000  Default  27.0000   \n",
              "2                  gewalt  13911.000000  13911.000000  Default  26.0000   \n",
              "...                   ...           ...           ...      ...      ...   \n",
              "3470                   fr    390.136114   1774.779881   Topic5  -5.9255   \n",
              "54               dienstag    416.306336   2325.988424   Topic5  -5.8606   \n",
              "112              mittwoch    427.852221   2503.435995   Topic5  -5.8333   \n",
              "81                  hilfe    437.946557   2726.117181   Topic5  -5.8099   \n",
              "435                kinder    484.407127   4771.975960   Topic5  -5.7091   \n",
              "\n",
              "      loglift  \n",
              "152   30.0000  \n",
              "2396  29.0000  \n",
              "46    28.0000  \n",
              "2394  27.0000  \n",
              "2     26.0000  \n",
              "...       ...  \n",
              "3470   0.5407  \n",
              "54     0.3352  \n",
              "112    0.2890  \n",
              "81     0.2271  \n",
              "435   -0.2319  \n",
              "\n",
              "[443 rows x 6 columns], token_table=       Topic      Freq              Term\n",
              "term                                    \n",
              "3472       1  0.110217            abends\n",
              "3472       2  0.283415            abends\n",
              "3472       3  0.117215            abends\n",
              "3472       4  0.069979            abends\n",
              "3472       5  0.418125            abends\n",
              "...      ...       ...               ...\n",
              "27120      5  0.379757  ärzteallgemeiner\n",
              "53384      3  0.492177     übereinstimmt\n",
              "28437      1  0.904372         übergaben\n",
              "8443       1  0.880175       überlebende\n",
              "8443       5  0.088017       überlebende\n",
              "\n",
              "[1101 rows x 3 columns], R=30, lambda_step=0.01, plot_opts={'xlab': 'PC1', 'ylab': 'PC2'}, topic_order=[1, 3, 2, 5, 4])"
            ],
            "text/html": [
              "\n",
              "<link rel=\"stylesheet\" type=\"text/css\" href=\"https://cdn.rawgit.com/bmabey/pyLDAvis/files/ldavis.v1.0.0.css\">\n",
              "\n",
              "\n",
              "<div id=\"ldavis_el2221406394264928169195845770\"></div>\n",
              "<script type=\"text/javascript\">\n",
              "\n",
              "var ldavis_el2221406394264928169195845770_data = {\"mdsDat\": {\"x\": [-0.05612316739490808, 0.03864929790716951, -0.004069926383039514, -0.023657156010460954, 0.045200951881239106], \"y\": [-0.001429694436018575, -0.01337446002850399, -0.006648772657542172, 0.008133802236591908, 0.013319124885472803], \"topics\": [1, 2, 3, 4, 5], \"cluster\": [1, 1, 1, 1, 1], \"Freq\": [35.570020965814834, 20.861339039161393, 16.562719728365767, 14.205388413947936, 12.800531852710073]}, \"tinfo\": {\"Term\": [\"telefon\", \"mi\", \"bereitschaftsdienst\", \"do\", \"gewalt\", \"jugendtelefon\", \"interventionsstelle\", \"\\u00e4rzteallgemeiner\", \"kummer\", \"entst\\u00f6rungsdienst\", \"notfallrettung\", \"notarzt\", \"nummer\", \"montag\", \"frauen\", \"gas\", \"h\\u00e4uslicher\", \"strom\", \"wasser\", \"w\\u00e4rme\", \"st\\u00f6rungsdienst\", \"beratung\", \"fr\", \"donnerstag\", \"notdienst\", \"freitag\", \"mittwoch\", \"dienstag\", \"polizei\", \"frau\", \"oscarpreistr\\u00e4gerin\", \"pfandbon\", \"verleumdete\", \"verdeckter\", \"industriespionage\", \"frauentisch\", \"verkl\\u00e4ren\", \"motorhaube\", \"transaktivisten\", \"\\u00fcberlebende\", \"keffel\", \"pfandtastisch\", \"\\u00fcbergaben\", \"spendenkasten\", \"zweimaligen\", \"golfstar\", \"obsession\", \"argentinischen\", \"neetze\", \"vorstandssprecher\", \"ministeriumssprechers\", \"kindersiedlung\", \"verwaltungskosten\", \"velgast\", \"leergut\", \"transmenschen\", \"wit\", \"luxusvilla\", \"schokoladenfabrikanten\", \"gutshaus\", \"leserinnen\", \"goldene\", \"kindertage\", \"herz\", \"arbeit\", \"niedertr\\u00e4chtig\", \"balkons\", \"familie\", \"euro\", \"streit\", \"mann\", \"spur\", \"bereich\", \"projekte\", \"kinder\", \"b\\u00fcrgerb\\u00fcro\", \"beispielsweise\", \"sch\\u00e4fergraben\", \"gekommen\", \"steht\", \"angst\", \"mal\", \"opfer\", \"geben\", \"landratsamt\", \"frau\", \"m\\u00e4nner\", \"familien\", \"n\\u00e4he\", \"schule\", \"beziehungstat\", \"kindern\", \"lassen\", \"menschen\", \"f\\u00e4llen\", \"frauenhaus\", \"helfen\", \"polizei\", \"t\\u00e4ter\", \"frauen\", \"fall\", \"stadt\", \"gewalt\", \"h\\u00e4usliche\", \"f\\u00e4lle\", \"zahl\", \"eltern\", \"h\\u00e4uslicher\", \"leben\", \"prozent\", \"hilfe\", \"telefon\", \"thema\", \"wohnung\", \"montag\", \"empathen\", \"cmo\", \"mascherode\", \"sch\\u00f6ningenniedernstr\", \"anwochenenden\", \"hochempathen\", \"allenfeiertagen\", \"beisexueller\", \"erlernbar\", \"hainen\", \"v\\u00f6hrumkirchvordener\", \"velpkeoebisfelder\", \"edemissenedemissener\", \"stromwasser\", \"arbeittelefonseelsorge\", \"sexualisiertergewalt\", \"mogrevesm\\u00fchlen\", \"schwemme\", \"elm\", \"neustadtring\", \"probanden\", \"kanzlerfeld\", \"eiterer\", \"k\\u00f6nigslutter\", \"helmstedtgr\\u00f6pern\", \"helmstedtneum\\u00e4rker\", \"notdiensttel\", \"botanischen\", \"ohg\", \"messung\", \"c\", \"nordertor\", \"k\\u00f6nigslutteram\", \"amtsgarten\", \"vorsfelder\", \"samstags\", \"krisendienst\", \"notruffeuerwehr\", \"st\\u00f6rungsdienst\", \"sozialpsychiatrischefragen\", \"ta\", \"lebensrettung\", \"helmstedter\", \"m\\u00fchlen\", \"sch\\u00f6ninger\", \"gr\\u00f6pern\", \"notfallrettung\", \"bereitschaftsdienst\", \"interventionsstelle\", \"peine\", \"notarzt\", \"fr\", \"wochenenden\", \"eichsen\", \"mo\", \"kummer\", \"\\u00e4rzteallgemeiner\", \"sa\", \"jugendtelefon\", \"h\\u00f6rbehinderte\", \"uhrgrevesm\\u00fchlen\", \"telefon\", \"nummer\", \"stepenitztal\", \"m\\u00e4dchenberatung\", \"w\\u00e4rme\", \"do\", \"markt\", \"strom\", \"werk\", \"gas\", \"h\\u00e4uslicher\", \"gewalt\", \"freitag\", \"montag\", \"beratung\", \"frauen\", \"wasser\", \"nacht\", \"donnerstag\", \"mittwoch\", \"dienstag\", \"menschen\", \"polizei\", \"hilfe\", \"kinder\", \"antragstellenden\", \"wolgast\", \"einheitl\", \"postfach\", \"rufnr\", \"uhrwasserverband\", \"januar\\u00e4rzteallgemeiner\", \"schadenersatzforderungen\", \"samstagapothekenapotheke\", \"verstopften\", \"economics\", \"fachzentrum\", \"verwerfen\", \"ortsgruppe\", \"lo\\u00dfau\", \"blusenaktion\", \"s\\u00e4ngers\", \"zufriedengegeben\", \"vergleichsgruppe\", \"pops\\u00e4nger\", \"verfahrensfehler\", \"wohlt\\u00e4tigkeitsorganisation\", \"k\\u00f6nigslutteramtsgarten\", \"gewaltes\", \"bin\\u00e4r\", \"geburtenregister\", \"altharen\", \"\\u00fcbereinstimmt\", \"hegt\", \"verstehende\", \"mistplatz\", \"planetarium\", \"helios\", \"brenner\", \"bereitschaftsdienstpraxis\", \"windthorstplatz\", \"campus\", \"dienst\", \"naumburger\", \"verleumdungsprozess\", \"depp\", \"samstag\\u00e4rzteallgemeiner\", \"vereinbarung\", \"prozent\", \"style\", \"telefon\", \"frauen\", \"gewalt\", \"partnerschaftsgewalt\", \"sa\", \"sonntag\", \"beratung\", \"dienstag\", \"feiertagen\", \"h\\u00e4usliche\", \"dollar\", \"donnerstag\", \"sonnabend\", \"h\\u00e4uslicher\", \"mittwoch\", \"betroffene\", \"partner\", \"opfer\", \"zahlen\", \"weg\", \"f\\u00e4lle\", \"allee\", \"freitag\", \"montag\", \"bereitschaftsdienst\", \"notdienst\", \"leben\", \"kinder\", \"frau\", \"polizei\", \"menschen\", \"hilfe\", \"markt\", \"fr\", \"jugendtelefon\", \"aufenthaltsgenehmigungen\", \"fmg\", \"t\\u00f6tungsdeliktan\", \"eitelbrotstra\\u00dfe\", \"abschiebehaft\", \"k\\u00f6nigsl\", \"humanit\\u00e4ren\", \"k\\u00f6nigsgemahlin\", \"offensichtlichste\", \"t\", \"kleinstadtprotagonisten\", \"schluffiger\", \"senf\", \"strafgesetze\", \"sexualleben\", \"zweist\\u00fcndiges\", \"hot\", \"risikoverhalten\", \"webadresse\", \"nothing\", \"sehns\\u00fcchtige\", \"zeitungsartikel\", \"trotzige\", \"uhrmo\", \"fiat\", \"erfrischenden\", \"schmerzvoll\", \"wagnerin\", \"kinoproduktionen\", \"patate\", \"pampa\", \"abzuweisen\", \"pressure\", \"unterordnung\", \"machine\", \"saarl\\u00e4ndischen\", \"h\\u00f6rspieldramaturg\", \"verschlafenen\", \"killers\", \"fernsehgeschichte\", \"fernsehrolle\", \"femizids\", \"depp\", \"type\", \"bereitschaftsdienstpraxis\", \"ruhige\", \"trennung\", \"frau\", \"frauen\", \"helios\", \"gericht\", \"telefon\", \"mann\", \"allee\", \"mittwoch\", \"donnerstag\", \"meist\", \"beratung\", \"gewalt\", \"lassen\", \"freitag\", \"millionen\", \"rathaus\", \"kinder\", \"menschen\", \"november\", \"prozent\", \"landkreis\", \"eltern\", \"sprechstunde\", \"thema\", \"staatsanwaltschaft\", \"dienstag\", \"opfer\", \"montag\", \"h\\u00e4usliche\", \"laut\", \"leben\", \"polizei\", \"beratungsstelle\", \"sonntag\", \"h\\u00e4uslicher\", \"f\\u00e4lle\", \"hilfe\", \"bereitschaftsdienst\", \"t\\u00e4ter\", \"mi\", \"stehfest\", \"wasserverband\", \"wohnungsinhaber\", \"cannabispflanzen\", \"di\", \"gzsz\", \"denkmalplatz\", \"reislinger\", \"giftnotruf\", \"streamingdienst\", \"apothekenreislinger\", \"emo\", \"lokalgericht\", \"porschestr\", \"do\", \"kaufhofpassage\", \"hehlinger\", \"dogrevesm\\u00fchlen\", \"stralsunder\", \"t\\u00e4gl\", \"bokensdorfer\", \"dertelefonseelsorge\", \"gesundheitsdienstes\", \"b\\u00fcrgerplatz\", \"zweiraumwohnung\", \"bel\\u00fcftungseinrichtung\", \"stecklinge\", \"c\\u00f6lpiner\", \"ketschendorfer\", \"entst\\u00f6rungsdienst\", \"heiliger\", \"wahrenholz\", \"servicetelefon\", \"ansprechpartnerin\", \"dienstzeit\", \"hoffmannhaus\", \"allerwelle\", \"dienstschluss\", \"amtsstr\", \"apothekenapotheke\", \"telefonseelsorge\", \"abends\", \"\\u00e4rzteallgemeiner\", \"kinderschutz\", \"w\\u00e4rme\", \"notdienst\", \"bereitschaftsdienst\", \"nummer\", \"kummer\", \"jugendtelefon\", \"telefon\", \"wasser\", \"interventionsstelle\", \"gas\", \"st\\u00f6rungsannahme\", \"strom\", \"t\\u00e4glich\", \"notfallrettung\", \"notarzt\", \"montag\", \"gewalt\", \"erreichbar\", \"h\\u00e4uslicher\", \"polizei\", \"donnerstag\", \"beratung\", \"freitag\", \"frau\", \"frauen\", \"menschen\", \"fr\", \"dienstag\", \"mittwoch\", \"hilfe\", \"kinder\"], \"Freq\": [19137.0, 3243.0, 8068.0, 3470.0, 13911.0, 2807.0, 2357.0, 1819.0, 2190.0, 1751.0, 2043.0, 2193.0, 2136.0, 3974.0, 11072.0, 2196.0, 6620.0, 2247.0, 2105.0, 1627.0, 1555.0, 3914.0, 1774.0, 3199.0, 1834.0, 3360.0, 2503.0, 2325.0, 4957.0, 4260.0, 7.932789101550327, 8.449265342947294, 9.02454324008342, 6.50508510697604, 6.466111452851887, 5.661163634513639, 4.926736670113033, 8.072398171692535, 5.632403432022124, 9.726383603840997, 4.5419224210415186, 4.551134503207119, 4.714341110690358, 4.47187012825936, 3.3897674633615487, 3.38756829059397, 9.965431763646835, 3.3851357603399728, 3.378676705735666, 4.676707415930467, 3.381961064662397, 10.300139508003992, 4.664853446398845, 3.337330706911766, 4.364146478591336, 5.258664063405739, 4.21444026632317, 6.745730584006953, 6.651988813988006, 13.309934151664155, 29.257295292077856, 45.77114206939572, 15.325828244798716, 141.58089364017022, 927.0093655167475, 10.531086618360423, 5.801061447621637, 709.7161848319921, 786.2319660107003, 312.2634154056236, 1456.1841769437765, 87.65164769288329, 463.0004415386065, 135.69899708540584, 2076.7047736904638, 282.1619774684024, 288.5282296404205, 253.66022577782687, 298.9983597386577, 493.7655836139092, 374.38509241244316, 646.140814748258, 1423.995731434854, 363.9173254279925, 266.1575766689666, 1633.3727172461518, 799.2469569767768, 609.7166295638285, 182.3641730397628, 283.33599602868253, 301.007573604507, 571.4862692500873, 420.0636565453598, 1662.72656050587, 472.0635500572128, 693.3365924566708, 378.6299064448902, 1721.019284244394, 734.8117915729559, 3211.3676588717253, 616.1876858322787, 505.45704181043266, 3576.716393213626, 1052.428604950558, 821.3860247971519, 574.678410615192, 542.9263376980878, 1733.6441723865921, 803.4507473538899, 988.8375910535572, 733.2354528905211, 1173.7278972844013, 538.2748317829809, 506.8498138139308, 534.6602129351226, 5.081241558491116, 5.955299750766468, 20.774147593263482, 13.347150023030366, 3.823382165872028, 4.148441833335898, 3.8447303207443744, 13.3748678460715, 4.09817745521687, 10.84802780298073, 4.655125613484397, 4.458934463389765, 5.120555755042768, 3.2933536190161328, 46.10065679134799, 11.900825198736094, 16.465102375098535, 3.1157948419041106, 4.295939042299331, 6.536942229424259, 4.096036619576814, 10.975427229819712, 5.967527590666469, 3.070082175733124, 3.056671960494795, 32.94144121385186, 33.00167739042864, 10.34928196246625, 2.3278153066770866, 2.590736819066646, 166.8054727322995, 79.27874977950934, 17.12282182813506, 79.4997786075902, 80.27771055106855, 76.63806648104101, 162.46957676634153, 57.07791258844917, 967.1204795296833, 47.49135193873525, 342.95211602321734, 55.59509091250281, 143.435790388102, 252.3477870029807, 73.78627071557105, 73.11287980859971, 1128.0732619015662, 3926.4574415563343, 1246.475860528811, 244.92549814508396, 1160.6973830257182, 948.9657359436344, 152.0354167125551, 238.3442497564159, 744.5859722487518, 1087.8900324693786, 920.0974972128805, 432.4136866417372, 1326.8487501290922, 186.1843152136698, 199.26229770748216, 7053.075030086411, 970.2081197626383, 224.25720995848496, 183.83952199327473, 736.7400863817339, 1369.1805106024392, 890.0105785905536, 937.86074203196, 432.7199781579516, 890.3228019062675, 2143.5851399989547, 3783.105250735011, 1188.1194823009123, 1329.422374988592, 1313.036305526218, 2842.670883843551, 811.7278444718706, 548.8322092111439, 1006.4727026581508, 849.9801900108913, 770.4843751758639, 1120.3353126104885, 1162.0232233699323, 810.979107237845, 859.003399485121, 3.366465706701156, 3.0422417813661244, 7.266463863130632, 3.80338128765222, 6.920886205813738, 1.7443212040489942, 2.740397839431632, 2.95684989208671, 1.8227045302808356, 1.4390868843543059, 1.438580206027812, 2.4658540076941753, 2.9062332946396565, 5.096551949079955, 2.503487983114801, 1.7638944267844456, 3.618683197263342, 2.8405495933099103, 1.7318880709711493, 5.24451749413501, 3.98606607529144, 1.9652425824920632, 1.5042409546746307, 1.8981970219752935, 1.1213410314063803, 1.1209470533320127, 1.1206349140372216, 1.1191961160815838, 1.1197259190212143, 1.1192512197136304, 2.6401563379841546, 4.209559185803628, 40.31789814073174, 2.578654838993046, 37.53442782950227, 2.6848495958640655, 47.04738957450851, 339.9891112566262, 9.847511110984607, 31.50028818290529, 173.27762486774276, 47.3290965345516, 414.34839306154646, 791.2036105402638, 314.70699681623887, 3808.9084697576636, 2356.2908299261157, 2732.6062140567983, 102.4751031882218, 227.63132760154798, 390.36826070580804, 829.0974027666978, 527.6129118819623, 312.0407966620962, 633.8606535171303, 90.88075157983288, 648.0501939769399, 361.57777967986357, 1145.6870161174245, 513.9706431587582, 408.6342141588173, 231.23742757066083, 644.3383500519645, 255.5815788179543, 309.2326509272433, 448.90314107420403, 348.84306038346784, 595.2634714223764, 669.6923835865784, 1128.9872615927864, 369.95591401592407, 425.5315481289776, 714.4930497067769, 641.4761549611077, 674.3714380963941, 616.485238028311, 453.7160425641561, 383.1564128806507, 337.04058244280407, 340.389331773029, 5.8085690773070775, 3.5480943370032487, 3.478733079246393, 3.5792216269892907, 3.02178316460502, 2.0377858107649995, 2.9471540528168916, 3.6273654834152844, 3.4874031258711473, 3.10913746762265, 2.300954373426849, 2.2379617571367008, 21.317551310895404, 1.3209138085024357, 1.319741503062154, 1.3194648684702084, 1.3186385037296626, 1.3163757330402135, 1.3161144342678641, 2.160372684706714, 2.156697101636971, 1.3109132320679129, 2.150140301460604, 2.359173863327504, 2.1394957680628472, 2.1270951358615293, 2.121775081059708, 1.277033457383972, 3.7701027395474993, 2.102703809713482, 2.0994116221336423, 4.871497119534176, 9.941502857438385, 3.6413378896654023, 9.5448100322667, 3.9997905537545146, 4.017553266801739, 2.957234405005275, 7.8493661647256605, 3.6032239541748896, 3.5921553263813784, 9.030570509247491, 150.69217933305993, 3.5471488247412255, 28.030452435574883, 7.39131767454591, 87.31447471446029, 725.6749019128008, 1531.3148630433664, 27.333536168561793, 168.26787795870194, 2300.2515363537937, 522.525329504303, 318.9509218619963, 439.2184772286972, 531.6987354779121, 109.16189274854337, 601.4323021067814, 1602.624366806217, 185.07665348055295, 508.267113123407, 164.44804145112377, 103.14998721888955, 637.3676098312553, 622.6855019592946, 160.32728313207338, 440.85685238264654, 133.56592875200027, 228.05207445468005, 223.0450661992395, 266.01846756389364, 188.30851938352896, 343.83273706722184, 464.2438923299072, 505.2455508535881, 410.2668280629079, 239.36556810000442, 306.59077976344736, 497.63196288788635, 236.56404888846458, 227.3062534386533, 469.9535359333918, 278.53830980964614, 290.2400214702977, 385.79078448805495, 229.04785517398264, 2452.8157941465024, 3.8243306027621853, 2.895643190056805, 2.3650155792364806, 2.791316710947536, 5.199949836050466, 1.711692493285112, 15.912722909941085, 19.359576298355726, 199.09694410396884, 1.9075710924455895, 6.753365685964093, 1.3086996470983778, 1.4445336960869684, 62.82572999169114, 1976.046780719039, 19.156778946771166, 17.517170820792774, 1.263687826919268, 20.235652012933592, 2.4303233720963004, 18.772499778543406, 1.1023752851051531, 1.5527648873807263, 2.9789297203225336, 1.2082013432438257, 1.2070474427262288, 1.2035733836483191, 1.2035850767903675, 2.881951583731014, 889.0878770657652, 34.79295692124119, 34.628121886823294, 174.46582936490344, 222.55022352667723, 176.26310356621113, 18.749664135135745, 41.05129237557233, 177.8336413651224, 33.64293427475284, 131.42978557854812, 238.78307702756842, 238.50171026552175, 691.2201160539266, 175.93443698156568, 583.4229189163349, 641.1581607007167, 2350.0059474513014, 714.5106099311143, 729.5389252312616, 905.0440240532224, 4801.8858820369705, 693.0850318929457, 732.5589704308055, 687.3159162416624, 146.96757320377105, 680.4177278023898, 173.0619719908279, 597.9983396907143, 618.673379587337, 935.1898456890107, 2216.095710532202, 286.4226215453036, 1127.3954386527664, 902.9511982455504, 625.8611157360384, 669.7033740282968, 611.9056781092215, 685.9071605040815, 1130.9694071253766, 606.8521317266818, 390.13611425800696, 416.30633563015743, 427.85222062570125, 437.9465572358186, 484.40712688735357], \"Total\": [19137.0, 3243.0, 8068.0, 3470.0, 13911.0, 2807.0, 2357.0, 1819.0, 2190.0, 1751.0, 2043.0, 2193.0, 2136.0, 3974.0, 11072.0, 2196.0, 6620.0, 2247.0, 2105.0, 1627.0, 1555.0, 3914.0, 1774.0, 3199.0, 1834.0, 3360.0, 2503.0, 2325.0, 4957.0, 4260.0, 8.629566106197592, 9.424419561380097, 10.07306740580847, 7.293430316193602, 7.261361724358117, 6.442504901843655, 5.655471480827483, 9.304008990531775, 6.570557666844885, 11.361377248383109, 5.310306246412447, 5.321241264422939, 5.528697344974035, 5.256586630328361, 3.9860893520253096, 3.983770374961556, 11.720320098120714, 3.981525034781579, 3.9750255510021666, 5.502229969969805, 3.9807515865910306, 12.127145143956879, 5.494148554534544, 3.9443142353964364, 5.169577025017064, 6.272867450053897, 5.050523535862129, 8.12232978972134, 8.064087103991287, 16.196911658782742, 38.33173319813404, 63.673226141743584, 20.04224145638933, 220.16889141608073, 1685.0588782498407, 13.578584762185535, 7.10919185266572, 1334.8292851737137, 1504.4014284311943, 557.4673943645429, 3070.3656256184995, 139.30248222306483, 887.6534989241745, 228.3526050363745, 4771.97595960097, 525.5392255489176, 545.3248646023844, 478.75415244097354, 578.7686253201122, 1026.3658371005288, 751.906536582508, 1399.9497812649452, 3519.458294650711, 740.1280675328084, 516.7383812283092, 4260.568311375066, 1857.0139872988534, 1357.2536660410499, 336.592492595197, 561.9022097882546, 602.9603950579065, 1287.23776397764, 899.0736007547913, 4629.084744830646, 1038.0920732844406, 1646.1704048552251, 799.4736242223615, 4957.997106844157, 1784.6269500614833, 11072.613642810134, 1460.887157528905, 1148.0073991298664, 13911.147935343852, 2993.0504265517375, 2293.266236767117, 1409.3566053402656, 1302.587025481223, 6620.26530308913, 2251.4948392395618, 3057.300593111127, 2726.1171813986384, 19137.84881551924, 1614.9193004051897, 1311.9176467377881, 3974.2103680528917, 6.296789140381334, 7.4387611072316595, 26.02736147935108, 16.98421243497172, 4.870992855690218, 5.29563441545228, 4.949715341221328, 17.25666859581893, 5.290053466083531, 14.006272525193683, 6.015193490839871, 5.761772997547187, 6.658936687864327, 4.308043546411913, 60.37373223214077, 15.906065472418053, 22.333106181341087, 4.251753388767221, 5.877318012348459, 8.950044256567809, 5.669082513809283, 15.264194988081307, 8.300878019762797, 4.300223033279308, 4.304391029065497, 46.45654974542874, 46.55311892433508, 14.616227608462076, 3.3002274776189764, 3.6738125454653354, 239.77600422095537, 113.79990042433306, 24.369418973127193, 114.96573415972338, 116.24750039918979, 111.04618999251389, 245.96783799080623, 83.79716133710649, 1555.571311003206, 69.69458286721736, 538.7498255685795, 82.05732393055047, 220.8124446947907, 406.95899644129145, 112.03965551690503, 110.9549759156963, 2043.4218002464982, 8068.27361241138, 2357.6088647182155, 411.65242844879214, 2193.4411871910593, 1774.7798810856812, 248.2890088490792, 407.1195187536926, 1405.3908346657333, 2190.6233804066424, 1819.5862948271206, 800.1767427552351, 2807.12097884781, 318.06428589377373, 343.8158061390588, 19137.84881551924, 2136.5252811435425, 397.294397662718, 317.18506244010473, 1627.1157540768259, 3470.1838911095865, 2109.447824662078, 2247.2764257592735, 891.8676524193594, 2196.424907036496, 6620.26530308913, 13911.147935343852, 3360.6769011804936, 3974.2103680528917, 3914.6449033686276, 11072.613642810134, 2105.531397072851, 1282.2834612037739, 3199.797976082131, 2503.4359949589925, 2325.9884238204872, 4629.084744830646, 4957.997106844157, 2726.1171813986384, 4771.97595960097, 4.282712387749201, 3.95866095280792, 10.242627911659424, 5.4439365426698085, 10.175534692456829, 2.6679614588304266, 4.285364206239666, 4.7551039547681775, 2.949111267207054, 2.3525604508447264, 2.3520599478416737, 4.051169202844849, 4.8186452023622275, 8.564497067491452, 4.278932226411705, 3.018083225464965, 6.207819581361703, 4.898487936340178, 2.993790957410812, 9.074354767934699, 7.041493190546568, 3.4957149911894887, 2.6785482956190547, 3.431158170042888, 2.0338447113512728, 2.0333694662956283, 2.033640938583894, 2.031789141186598, 2.032826379052557, 2.031989981453243, 4.794441400850586, 7.7937778182888575, 78.52167393172175, 4.782547928236986, 75.65320970555302, 5.04609578539044, 99.95057305982549, 937.539563079577, 20.32790987351383, 73.43194798454616, 490.33854551410303, 119.40133363955657, 1456.5820610811038, 3057.300593111127, 1075.8055579430786, 19137.84881551924, 11072.613642810134, 13911.147935343852, 311.3145811708511, 800.1767427552351, 1524.7389284955477, 3914.6449033686276, 2325.9884238204872, 1248.3596644348797, 2993.0504265517375, 293.9041525658099, 3199.797976082131, 1620.3615434234, 6620.26530308913, 2503.4359949589925, 1932.0348190369498, 947.4498721947805, 3519.458294650711, 1083.3499590735403, 1412.0082767003491, 2293.266236767117, 1658.696417782328, 3360.6769011804936, 3974.2103680528917, 8068.27361241138, 1834.8390422374541, 2251.4948392395618, 4771.97595960097, 4260.568311375066, 4957.997106844157, 4629.084744830646, 2726.1171813986384, 2109.447824662078, 1774.7798810856812, 2807.12097884781, 7.4613131450453105, 4.660291712969927, 4.629163610876021, 4.797569333296794, 4.23540084525796, 2.9574098371191053, 4.29368476548071, 5.350732537890674, 5.263131841991537, 4.754736307584092, 3.638790568264773, 3.629295937682859, 35.5699708437548, 2.20623636056286, 2.2046920543759154, 2.204777564792132, 2.2041439403643954, 2.2013426587244123, 2.201120632456919, 3.6155819635956643, 3.6123547543333947, 2.1994930908010137, 3.6133680887668107, 3.966623937327041, 3.6090233224469075, 3.6098159486012777, 3.6085154323542956, 2.183238364733728, 6.468310666020472, 3.6078380809047, 3.6024759023472233, 8.496049915567879, 17.65929590993068, 6.340665662132762, 17.687914191166655, 7.121316206490697, 7.16151262447919, 5.170999629453709, 14.712087920178597, 6.48785129277112, 6.560749012196189, 18.931408638162573, 490.33854551410303, 6.506527941697178, 75.65320970555302, 15.73394481022859, 310.08335228205704, 4260.568311375066, 11072.613642810134, 78.52167393172175, 745.7423640513042, 19137.84881551924, 3070.3656256184995, 1658.696417782328, 2503.4359949589925, 3199.797976082131, 448.3114578166847, 3914.6449033686276, 13911.147935343852, 899.0736007547913, 3360.6769011804936, 783.2352620985697, 439.90205457033466, 4771.97595960097, 4629.084744830646, 787.2212188766797, 3057.300593111127, 634.1629649956925, 1302.587025481223, 1267.8160906059059, 1614.9193004051897, 1010.6268476941135, 2325.9884238204872, 3519.458294650711, 3974.2103680528917, 2993.0504265517375, 1419.0155859786325, 2251.4948392395618, 4957.997106844157, 1604.1654250095057, 1524.7389284955477, 6620.26530308913, 2293.266236767117, 2726.1171813986384, 8068.27361241138, 1784.6269500614833, 3243.7511272490074, 5.345026249456048, 4.2312336826884716, 3.588648816203951, 4.282002007846025, 8.075784878252996, 2.6856845384033114, 25.474402542143203, 31.673686754960286, 330.16743190230795, 3.23198828854383, 11.613066903899034, 2.2815448930849795, 2.5262312531625533, 110.01012062365412, 3470.1838911095865, 33.972439531969854, 31.964853492977458, 2.3112094659754763, 37.49614139886528, 4.508985403987012, 35.13667262788474, 2.0750365933629293, 2.9393836996782055, 5.7092761620713475, 2.3349113541266417, 2.338728972809695, 2.34043654397669, 2.3409627959244905, 5.631679980900589, 1751.1802708389907, 68.22314911299304, 68.42189477773091, 354.4767758904435, 462.8258526961098, 375.70282583670667, 37.60317759513251, 84.4622996911107, 383.055771128428, 68.9360980274988, 293.2811953743428, 556.7121713750544, 571.59993592722, 1819.5862948271206, 428.5075983536946, 1627.1157540768259, 1834.8390422374541, 8068.27361241138, 2136.5252811435425, 2190.6233804066424, 2807.12097884781, 19137.84881551924, 2105.531397072851, 2357.6088647182155, 2196.424907036496, 370.0552911294329, 2247.2764257592735, 460.76078919645784, 2043.4218002464982, 2193.4411871910593, 3974.2103680528917, 13911.147935343852, 909.2356260860025, 6620.26530308913, 4957.997106844157, 3199.797976082131, 3914.6449033686276, 3360.6769011804936, 4260.568311375066, 11072.613642810134, 4629.084744830646, 1774.7798810856812, 2325.9884238204872, 2503.4359949589925, 2726.1171813986384, 4771.97595960097], \"Category\": [\"Default\", \"Default\", \"Default\", \"Default\", \"Default\", \"Default\", \"Default\", \"Default\", \"Default\", \"Default\", \"Default\", \"Default\", \"Default\", \"Default\", \"Default\", \"Default\", \"Default\", \"Default\", \"Default\", \"Default\", \"Default\", \"Default\", \"Default\", \"Default\", \"Default\", \"Default\", \"Default\", \"Default\", \"Default\", \"Default\", \"Topic1\", \"Topic1\", \"Topic1\", \"Topic1\", \"Topic1\", \"Topic1\", \"Topic1\", \"Topic1\", \"Topic1\", \"Topic1\", \"Topic1\", \"Topic1\", \"Topic1\", \"Topic1\", \"Topic1\", \"Topic1\", \"Topic1\", \"Topic1\", \"Topic1\", \"Topic1\", \"Topic1\", \"Topic1\", \"Topic1\", \"Topic1\", \"Topic1\", \"Topic1\", \"Topic1\", \"Topic1\", \"Topic1\", \"Topic1\", \"Topic1\", \"Topic1\", \"Topic1\", \"Topic1\", \"Topic1\", \"Topic1\", \"Topic1\", \"Topic1\", \"Topic1\", \"Topic1\", \"Topic1\", \"Topic1\", \"Topic1\", \"Topic1\", \"Topic1\", \"Topic1\", \"Topic1\", \"Topic1\", \"Topic1\", \"Topic1\", \"Topic1\", \"Topic1\", \"Topic1\", \"Topic1\", \"Topic1\", \"Topic1\", \"Topic1\", \"Topic1\", \"Topic1\", \"Topic1\", \"Topic1\", \"Topic1\", \"Topic1\", \"Topic1\", \"Topic1\", \"Topic1\", \"Topic1\", \"Topic1\", \"Topic1\", \"Topic1\", \"Topic1\", \"Topic1\", \"Topic1\", \"Topic1\", \"Topic1\", \"Topic1\", \"Topic1\", \"Topic1\", \"Topic1\", \"Topic1\", \"Topic1\", \"Topic1\", \"Topic1\", \"Topic1\", \"Topic1\", \"Topic2\", \"Topic2\", \"Topic2\", \"Topic2\", \"Topic2\", \"Topic2\", \"Topic2\", \"Topic2\", \"Topic2\", \"Topic2\", \"Topic2\", \"Topic2\", \"Topic2\", \"Topic2\", \"Topic2\", \"Topic2\", \"Topic2\", \"Topic2\", \"Topic2\", \"Topic2\", \"Topic2\", \"Topic2\", \"Topic2\", \"Topic2\", \"Topic2\", \"Topic2\", \"Topic2\", \"Topic2\", \"Topic2\", \"Topic2\", \"Topic2\", \"Topic2\", \"Topic2\", \"Topic2\", \"Topic2\", \"Topic2\", \"Topic2\", \"Topic2\", \"Topic2\", \"Topic2\", \"Topic2\", \"Topic2\", \"Topic2\", \"Topic2\", \"Topic2\", \"Topic2\", \"Topic2\", \"Topic2\", \"Topic2\", \"Topic2\", \"Topic2\", \"Topic2\", \"Topic2\", \"Topic2\", \"Topic2\", \"Topic2\", \"Topic2\", \"Topic2\", \"Topic2\", \"Topic2\", \"Topic2\", \"Topic2\", \"Topic2\", \"Topic2\", \"Topic2\", \"Topic2\", \"Topic2\", \"Topic2\", \"Topic2\", \"Topic2\", \"Topic2\", \"Topic2\", \"Topic2\", \"Topic2\", \"Topic2\", \"Topic2\", \"Topic2\", \"Topic2\", \"Topic2\", \"Topic2\", \"Topic2\", \"Topic2\", \"Topic2\", \"Topic2\", \"Topic2\", \"Topic2\", \"Topic3\", \"Topic3\", \"Topic3\", \"Topic3\", \"Topic3\", \"Topic3\", \"Topic3\", \"Topic3\", \"Topic3\", \"Topic3\", \"Topic3\", \"Topic3\", \"Topic3\", \"Topic3\", \"Topic3\", \"Topic3\", \"Topic3\", \"Topic3\", \"Topic3\", \"Topic3\", \"Topic3\", \"Topic3\", \"Topic3\", \"Topic3\", \"Topic3\", \"Topic3\", \"Topic3\", \"Topic3\", \"Topic3\", \"Topic3\", \"Topic3\", \"Topic3\", \"Topic3\", \"Topic3\", \"Topic3\", \"Topic3\", \"Topic3\", \"Topic3\", \"Topic3\", \"Topic3\", \"Topic3\", \"Topic3\", \"Topic3\", \"Topic3\", \"Topic3\", \"Topic3\", \"Topic3\", \"Topic3\", \"Topic3\", \"Topic3\", \"Topic3\", \"Topic3\", \"Topic3\", \"Topic3\", \"Topic3\", \"Topic3\", \"Topic3\", \"Topic3\", \"Topic3\", \"Topic3\", \"Topic3\", \"Topic3\", \"Topic3\", \"Topic3\", \"Topic3\", \"Topic3\", \"Topic3\", \"Topic3\", \"Topic3\", \"Topic3\", \"Topic3\", \"Topic3\", \"Topic3\", \"Topic3\", \"Topic3\", \"Topic3\", \"Topic3\", \"Topic3\", \"Topic3\", \"Topic3\", \"Topic4\", \"Topic4\", \"Topic4\", \"Topic4\", \"Topic4\", \"Topic4\", \"Topic4\", \"Topic4\", \"Topic4\", \"Topic4\", \"Topic4\", \"Topic4\", \"Topic4\", \"Topic4\", \"Topic4\", \"Topic4\", \"Topic4\", \"Topic4\", \"Topic4\", \"Topic4\", \"Topic4\", \"Topic4\", \"Topic4\", \"Topic4\", \"Topic4\", \"Topic4\", \"Topic4\", \"Topic4\", \"Topic4\", \"Topic4\", \"Topic4\", \"Topic4\", \"Topic4\", \"Topic4\", \"Topic4\", \"Topic4\", \"Topic4\", \"Topic4\", \"Topic4\", \"Topic4\", \"Topic4\", \"Topic4\", \"Topic4\", \"Topic4\", \"Topic4\", \"Topic4\", \"Topic4\", \"Topic4\", \"Topic4\", \"Topic4\", \"Topic4\", \"Topic4\", \"Topic4\", \"Topic4\", \"Topic4\", \"Topic4\", \"Topic4\", \"Topic4\", \"Topic4\", \"Topic4\", \"Topic4\", \"Topic4\", \"Topic4\", \"Topic4\", \"Topic4\", \"Topic4\", \"Topic4\", \"Topic4\", \"Topic4\", \"Topic4\", \"Topic4\", \"Topic4\", \"Topic4\", \"Topic4\", \"Topic4\", \"Topic4\", \"Topic4\", \"Topic4\", \"Topic4\", \"Topic4\", \"Topic4\", \"Topic4\", \"Topic4\", \"Topic4\", \"Topic4\", \"Topic4\", \"Topic5\", \"Topic5\", \"Topic5\", \"Topic5\", \"Topic5\", \"Topic5\", \"Topic5\", \"Topic5\", \"Topic5\", \"Topic5\", \"Topic5\", \"Topic5\", \"Topic5\", \"Topic5\", \"Topic5\", \"Topic5\", \"Topic5\", \"Topic5\", \"Topic5\", \"Topic5\", \"Topic5\", \"Topic5\", \"Topic5\", \"Topic5\", \"Topic5\", \"Topic5\", \"Topic5\", \"Topic5\", \"Topic5\", \"Topic5\", \"Topic5\", \"Topic5\", \"Topic5\", \"Topic5\", \"Topic5\", \"Topic5\", \"Topic5\", \"Topic5\", \"Topic5\", \"Topic5\", \"Topic5\", \"Topic5\", \"Topic5\", \"Topic5\", \"Topic5\", \"Topic5\", \"Topic5\", \"Topic5\", \"Topic5\", \"Topic5\", \"Topic5\", \"Topic5\", \"Topic5\", \"Topic5\", \"Topic5\", \"Topic5\", \"Topic5\", \"Topic5\", \"Topic5\", \"Topic5\", \"Topic5\", \"Topic5\", \"Topic5\", \"Topic5\", \"Topic5\", \"Topic5\", \"Topic5\", \"Topic5\", \"Topic5\", \"Topic5\", \"Topic5\", \"Topic5\", \"Topic5\", \"Topic5\", \"Topic5\", \"Topic5\"], \"logprob\": [30.0, 29.0, 28.0, 27.0, 26.0, 25.0, 24.0, 23.0, 22.0, 21.0, 20.0, 19.0, 18.0, 17.0, 16.0, 15.0, 14.0, 13.0, 12.0, 11.0, 10.0, 9.0, 8.0, 7.0, 6.0, 5.0, 4.0, 3.0, 2.0, 1.0, -10.843099594116211, -10.779999732971191, -10.714099884033203, -11.041500091552734, -11.047499656677246, -11.180399894714355, -11.3193998336792, -10.825599670410156, -11.185500144958496, -10.639200210571289, -11.400699615478516, -11.398699760437012, -11.36340045928955, -11.416299819946289, -11.693300247192383, -11.693900108337402, -10.614899635314941, -11.694700241088867, -11.696599960327148, -11.371500015258789, -11.695599555969238, -10.581899642944336, -11.37399959564209, -11.708900451660156, -11.440600395202637, -11.254199981689453, -11.475500106811523, -11.00510025024414, -11.019100189208984, -10.325499534606934, -9.5378999710083, -9.090399742126465, -10.184499740600586, -7.96120023727417, -6.082099914550781, -10.559700012207031, -11.156000137329102, -6.3491997718811035, -6.246799945831299, -7.170199871063232, -5.630499839782715, -8.440699577331543, -6.776299953460693, -8.003600120544434, -5.2754998207092285, -7.271599769592285, -7.249300003051758, -7.3780999183654785, -7.213600158691406, -6.711999893188477, -6.988800048828125, -6.442999839782715, -5.6528000831604, -7.017099857330322, -7.329999923706055, -5.515699863433838, -6.230400085449219, -6.501100063323975, -7.708099842071533, -7.267399787902832, -7.206900119781494, -6.565800189971924, -6.873700141906738, -5.497799873352051, -6.756899833679199, -6.372499942779541, -6.977499961853027, -5.463399887084961, -6.3144001960754395, -4.839600086212158, -6.490499973297119, -6.688600063323975, -4.731900215148926, -5.9552001953125, -6.203100204467773, -6.560200214385986, -6.617099761962891, -5.456099987030029, -6.225100040435791, -6.017499923706055, -6.3165998458862305, -5.846099853515625, -6.625699996948242, -6.685800075531006, -6.632400035858154, -10.754899978637695, -10.596199989318848, -9.346699714660645, -9.789199829101562, -11.039299964904785, -10.9576997756958, -11.033699989318848, -9.787099838256836, -10.969900131225586, -9.996500015258789, -10.842499732971191, -10.885499954223633, -10.747200012207031, -11.18850040435791, -8.549599647521973, -9.903800010681152, -9.57919979095459, -11.244000434875488, -10.922800064086914, -10.503000259399414, -10.970399856567383, -9.984800338745117, -10.594099998474121, -11.258700370788574, -11.263099670410156, -8.885700225830078, -8.883899688720703, -10.043499946594238, -11.535499572753906, -11.428500175476074, -7.263599872589111, -8.007499694824219, -9.539999961853027, -8.00469970703125, -7.994999885559082, -8.041399955749512, -7.289999961853027, -8.336000442504883, -5.506100177764893, -8.51990032196045, -6.542900085449219, -8.36240005493164, -7.414599895477295, -6.849599838256836, -8.079299926757812, -8.088399887084961, -5.352200031280518, -4.105000019073486, -5.252399921417236, -6.879499912261963, -5.323699951171875, -5.525100231170654, -7.356299877166748, -6.906700134277344, -5.767600059509277, -5.388500213623047, -5.556000232696533, -6.311100006103516, -5.189899921417236, -7.15369987487793, -7.0858001708984375, -3.519200086593628, -5.502900123596191, -6.967700004577637, -7.166399955749512, -5.778200149536133, -5.1585001945495605, -5.589200019836426, -5.536900043487549, -6.310400009155273, -5.588900089263916, -4.71019983291626, -4.142199993133545, -5.300300121307373, -5.188000202178955, -5.200399875640869, -4.427999973297119, -5.681300163269043, -6.072700023651123, -5.46619987487793, -5.635200023651123, -5.733399868011475, -5.359099864959717, -5.322500228881836, -5.682199954986572, -5.62470006942749, -10.935799598693848, -11.037099838256836, -10.166399955749512, -10.813799858093262, -10.215200424194336, -11.593299865722656, -11.141599655151367, -11.065600395202637, -11.549400329589844, -11.785699844360352, -11.786100387573242, -11.247200012207031, -11.082900047302246, -10.521100044250488, -11.232000350952148, -11.582200050354004, -10.86359977722168, -11.10569953918457, -11.600500106811523, -10.492500305175781, -10.766900062561035, -11.474100112915039, -11.741399765014648, -11.50879955291748, -12.035200119018555, -12.035499572753906, -12.035799980163574, -12.037099838256836, -12.036600112915039, -12.036999702453613, -11.178899765014648, -10.712400436401367, -8.452899932861328, -11.202400207519531, -8.524499893188477, -11.162099838256836, -8.298600196838379, -6.320799827575684, -9.862500190734863, -8.699700355529785, -6.994800090789795, -8.29259967803955, -6.123000144958496, -5.476200103759766, -6.398099899291992, -3.904599905014038, -4.384900093078613, -4.236700057983398, -7.520100116729736, -6.7220001220703125, -6.182600021362305, -5.4293999671936035, -5.88129997253418, -6.406599998474121, -5.69789981842041, -7.640200138092041, -5.6757001876831055, -6.259200096130371, -5.105999946594238, -5.90749979019165, -6.136899948120117, -6.706299781799316, -5.68149995803833, -6.606200218200684, -6.415599822998047, -6.042900085449219, -6.295100212097168, -5.760700225830078, -5.642899990081787, -5.12060022354126, -6.236299991607666, -6.096399784088135, -5.578100204467773, -5.6859002113342285, -5.635900020599365, -5.7256999015808105, -6.032199859619141, -6.201300144195557, -6.329500198364258, -6.3196001052856445, -10.236800193786621, -10.7298002243042, -10.749500274658203, -10.720999717712402, -10.890299797058105, -11.284299850463867, -10.915300369262695, -10.7076997756958, -10.746999740600586, -10.861800193786621, -11.1628999710083, -11.190600395202637, -8.936599731445312, -11.717900276184082, -11.718700408935547, -11.718999862670898, -11.719599723815918, -11.72130012512207, -11.721500396728516, -11.225899696350098, -11.22760009765625, -11.725500106811523, -11.230600357055664, -11.137900352478027, -11.235600471496582, -11.241399765014648, -11.243900299072266, -11.75160026550293, -10.669099807739258, -11.253000259399414, -11.254500389099121, -10.412799835205078, -9.69950008392334, -10.703800201416016, -9.74020004272461, -10.60990047454834, -10.605500221252441, -10.91189956665039, -9.935700416564941, -10.714300155639648, -10.717399597167969, -9.795599937438965, -6.980899810791016, -10.729999542236328, -8.6628999710083, -9.99590015411377, -7.526700019836426, -5.40910005569458, -4.662300109863281, -8.68809986114502, -6.87060022354126, -4.25540018081665, -5.737500190734863, -6.231100082397461, -5.911200046539307, -5.720099925994873, -7.303299903869629, -5.59689998626709, -4.616799831390381, -6.775400161743164, -5.765200138092041, -6.893599987030029, -7.360000133514404, -5.53879976272583, -5.562099933624268, -6.919000148773193, -5.90749979019165, -7.101600170135498, -6.5665998458862305, -6.588799953460693, -6.412600040435791, -6.7581000328063965, -6.156000137329102, -5.855800151824951, -5.771100044250488, -5.979400157928467, -6.518199920654297, -6.270699977874756, -5.786300182342529, -6.53000020980835, -6.569900035858154, -5.843500137329102, -6.366600036621094, -6.325500011444092, -6.040900230407715, -6.56220006942749, -4.087100028991699, -10.550700187683105, -10.828800201416016, -11.031299591064453, -10.865500450134277, -10.243399620056152, -11.354599952697754, -9.124899864196777, -8.928899765014648, -6.598199844360352, -11.246199607849121, -9.982000350952148, -11.623000144958496, -11.524299621582031, -7.751699924468994, -4.303199768066406, -8.939399719238281, -9.028900146484375, -11.657999992370605, -8.884599685668945, -11.003999710083008, -8.959600448608398, -11.794599533081055, -11.45199966430664, -10.80049991607666, -11.702899932861328, -11.703900337219238, -11.706700325012207, -11.706700325012207, -10.833600044250488, -5.101799964904785, -8.342599868774414, -8.347399711608887, -6.730299949645996, -6.4868998527526855, -6.720099925994873, -8.96090030670166, -8.177200317382812, -6.71120023727417, -8.376199722290039, -7.013599872589111, -6.416500091552734, -6.417699813842773, -5.353600025177002, -6.72189998626709, -5.523099899291992, -5.428800106048584, -4.129899978637695, -5.320400238037109, -5.299600124359131, -5.084099769592285, -3.415299892425537, -5.350900173187256, -5.295499801635742, -5.3592000007629395, -6.901800155639648, -5.36929988861084, -6.738399982452393, -5.498499870300293, -5.4644999504089355, -5.051300048828125, -4.188499927520752, -6.234600067138672, -4.8643999099731445, -5.086400032043457, -5.452899932861328, -5.385200023651123, -5.475500106811523, -5.361299991607666, -4.861199855804443, -5.483799934387207, -5.92549991607666, -5.860599994659424, -5.8333001136779785, -5.809899806976318, -5.709099769592285], \"loglift\": [30.0, 29.0, 28.0, 27.0, 26.0, 25.0, 24.0, 23.0, 22.0, 21.0, 20.0, 19.0, 18.0, 17.0, 16.0, 15.0, 14.0, 13.0, 12.0, 11.0, 10.0, 9.0, 8.0, 7.0, 6.0, 5.0, 4.0, 3.0, 2.0, 1.0, 0.9495, 0.9244, 0.9237, 0.9193, 0.9177, 0.9044, 0.8957, 0.8917, 0.8796, 0.8783, 0.8774, 0.8773, 0.8743, 0.872, 0.8716, 0.8716, 0.8715, 0.8714, 0.8711, 0.8711, 0.8707, 0.8704, 0.87, 0.8666, 0.8643, 0.8573, 0.8527, 0.848, 0.8412, 0.8374, 0.7635, 0.7036, 0.7654, 0.5921, 0.4361, 0.7795, 0.8303, 0.402, 0.3848, 0.4541, 0.2877, 0.5704, 0.3828, 0.5132, 0.2017, 0.4117, 0.3971, 0.3985, 0.3732, 0.3019, 0.3363, 0.2605, 0.1288, 0.3238, 0.3702, 0.0749, 0.1906, 0.2334, 0.4208, 0.349, 0.339, 0.2217, 0.2727, 0.0098, 0.2456, 0.169, 0.2863, -0.0244, 0.1463, -0.2041, 0.1704, 0.2133, -0.3246, -0.0115, 0.0069, 0.1366, 0.1585, -0.3062, 0.0032, -0.0951, -0.2795, -1.7578, -0.065, 0.0826, -0.9723, 1.3528, 1.3448, 1.3418, 1.3263, 1.3251, 1.3231, 1.3146, 1.3125, 1.312, 1.3118, 1.311, 1.3109, 1.3046, 1.2987, 1.2975, 1.2772, 1.2624, 1.2564, 1.2538, 1.2531, 1.2423, 1.2374, 1.2372, 1.2303, 1.225, 1.2235, 1.2232, 1.2221, 1.2182, 1.218, 1.2044, 1.2058, 1.2144, 1.1984, 1.197, 1.1964, 1.1526, 1.1833, 1.092, 1.1837, 1.1156, 1.1779, 1.1358, 1.0894, 1.1496, 1.1502, 0.9732, 0.8471, 0.9299, 1.048, 0.9308, 0.9412, 1.0768, 1.0319, 0.932, 0.8673, 0.8854, 0.9518, 0.8179, 1.0318, 1.0218, 0.5691, 0.7778, 0.9954, 1.0219, 0.7749, 0.6373, 0.7043, 0.6934, 0.844, 0.6643, 0.4396, 0.2651, 0.5275, 0.4722, 0.4749, 0.2075, 0.6141, 0.7187, 0.4106, 0.4871, 0.4624, 0.1485, 0.1164, 0.3549, -0.1475, 1.5573, 1.5347, 1.4547, 1.4394, 1.4126, 1.3731, 1.3509, 1.3229, 1.3168, 1.3065, 1.3064, 1.3015, 1.2924, 1.279, 1.262, 1.2609, 1.2583, 1.2531, 1.2507, 1.2497, 1.229, 1.2221, 1.221, 1.206, 1.2026, 1.2025, 1.2021, 1.2017, 1.2017, 1.2017, 1.2014, 1.182, 1.1314, 1.1803, 1.0971, 1.167, 1.0445, 0.7837, 1.0732, 0.9517, 0.7578, 0.8727, 0.5409, 0.4463, 0.5688, 0.1837, 0.2506, 0.1706, 0.6868, 0.5409, 0.4355, 0.2459, 0.3145, 0.4116, 0.2458, 0.6243, 0.2011, 0.2981, 0.0439, 0.2148, 0.2445, 0.3877, 0.1002, 0.3537, 0.2793, 0.1671, 0.2389, 0.0671, 0.0173, -0.1686, 0.1967, 0.132, -0.1009, -0.0954, -0.197, -0.2181, 0.0049, 0.0923, 0.1368, -0.3118, 1.7012, 1.6789, 1.6658, 1.6586, 1.6139, 1.5791, 1.5752, 1.5628, 1.54, 1.5268, 1.4932, 1.4681, 1.4396, 1.4386, 1.4384, 1.4381, 1.4378, 1.4374, 1.4373, 1.4366, 1.4358, 1.434, 1.4324, 1.4319, 1.4287, 1.4226, 1.4205, 1.4153, 1.4117, 1.4117, 1.4116, 1.3953, 1.377, 1.3969, 1.3347, 1.3747, 1.3735, 1.3927, 1.3233, 1.3634, 1.3492, 1.2113, 0.7717, 1.3449, 0.9587, 1.196, 0.6842, 0.1815, -0.0268, 0.8963, 0.4627, -0.1671, 0.1807, 0.3028, 0.2111, 0.1568, 0.5389, 0.0784, -0.2095, 0.371, 0.0627, 0.3907, 0.5012, -0.0616, -0.0545, 0.3603, 0.015, 0.3938, 0.209, 0.2139, 0.1481, 0.2713, 0.0398, -0.0741, -0.111, -0.0357, 0.1718, -0.0423, -0.3473, 0.0374, 0.0483, -0.6937, -0.1566, -0.2884, -1.0889, -0.1015, 1.7762, 1.7209, 1.6764, 1.6387, 1.6278, 1.6155, 1.6052, 1.5851, 1.5634, 1.5499, 1.5284, 1.5136, 1.4999, 1.4967, 1.4955, 1.4926, 1.4828, 1.4542, 1.4519, 1.4389, 1.4376, 1.4288, 1.4232, 1.4175, 1.4052, 1.3968, 1.3943, 1.3906, 1.3904, 1.3857, 1.3778, 1.3823, 1.3747, 1.3468, 1.3235, 1.2989, 1.3598, 1.3342, 1.2884, 1.3383, 1.253, 1.2092, 1.1816, 1.0878, 1.1655, 1.03, 1.0042, 0.8222, 0.9603, 0.9562, 0.9238, 0.673, 0.9445, 0.8868, 0.8939, 1.1322, 0.8609, 1.0765, 0.8269, 0.79, 0.6089, 0.2187, 0.9005, 0.2855, 0.3526, 0.424, 0.29, 0.3524, 0.2293, -0.2257, 0.0239, 0.5407, 0.3352, 0.289, 0.2271, -0.2319]}, \"token.table\": {\"Topic\": [1, 2, 3, 4, 5, 1, 4, 1, 2, 3, 4, 1, 2, 3, 4, 5, 2, 1, 2, 3, 4, 5, 3, 1, 2, 3, 4, 5, 1, 2, 3, 5, 1, 2, 3, 4, 5, 1, 2, 3, 4, 5, 3, 2, 1, 2, 3, 4, 5, 2, 3, 5, 1, 2, 3, 4, 5, 1, 2, 3, 5, 1, 1, 4, 1, 1, 2, 3, 4, 5, 1, 2, 3, 4, 5, 5, 1, 2, 3, 4, 5, 1, 2, 3, 4, 5, 1, 2, 3, 4, 5, 1, 2, 3, 4, 5, 2, 3, 4, 5, 1, 2, 3, 4, 5, 1, 2, 3, 4, 5, 3, 3, 1, 2, 3, 4, 5, 2, 3, 5, 1, 3, 1, 2, 3, 4, 5, 1, 4, 5, 1, 2, 3, 4, 5, 1, 2, 3, 4, 5, 5, 2, 3, 5, 2, 3, 5, 1, 2, 3, 4, 5, 5, 2, 3, 4, 5, 1, 2, 3, 4, 5, 1, 2, 3, 4, 5, 1, 2, 3, 4, 5, 1, 2, 3, 4, 5, 1, 2, 3, 4, 5, 5, 1, 2, 3, 4, 5, 1, 2, 3, 4, 5, 3, 1, 2, 5, 1, 2, 3, 4, 5, 1, 3, 5, 4, 2, 4, 2, 4, 1, 2, 3, 4, 5, 5, 1, 2, 1, 2, 3, 4, 5, 3, 4, 1, 2, 1, 2, 3, 4, 5, 1, 2, 3, 4, 5, 1, 3, 1, 2, 3, 4, 5, 1, 2, 3, 4, 5, 1, 2, 3, 4, 5, 1, 2, 3, 4, 5, 1, 2, 3, 4, 5, 1, 2, 3, 4, 1, 3, 4, 3, 4, 4, 1, 2, 3, 4, 5, 1, 2, 3, 4, 5, 1, 2, 3, 4, 5, 1, 2, 3, 4, 5, 1, 1, 2, 3, 4, 5, 1, 2, 3, 4, 5, 1, 2, 3, 4, 5, 1, 2, 3, 4, 5, 1, 2, 3, 4, 5, 3, 1, 2, 3, 4, 5, 1, 2, 3, 4, 5, 1, 5, 1, 2, 3, 4, 5, 1, 3, 1, 2, 3, 4, 5, 1, 2, 3, 4, 5, 1, 1, 2, 3, 4, 5, 1, 3, 5, 5, 2, 5, 3, 1, 2, 3, 4, 5, 1, 2, 3, 4, 5, 1, 2, 3, 4, 5, 1, 2, 3, 4, 5, 1, 2, 3, 4, 5, 2, 1, 2, 3, 5, 1, 2, 3, 4, 5, 1, 2, 3, 4, 5, 1, 2, 1, 2, 3, 4, 5, 4, 1, 4, 1, 2, 3, 4, 5, 1, 2, 3, 4, 5, 1, 2, 3, 4, 5, 1, 2, 3, 4, 1, 1, 2, 3, 4, 5, 2, 3, 1, 2, 3, 4, 5, 2, 3, 5, 1, 2, 3, 5, 1, 1, 2, 4, 5, 1, 2, 3, 4, 5, 1, 2, 3, 4, 5, 1, 2, 3, 4, 5, 1, 2, 3, 4, 5, 1, 4, 1, 2, 4, 5, 1, 3, 4, 3, 4, 1, 2, 3, 4, 5, 1, 2, 3, 4, 5, 1, 4, 4, 2, 1, 2, 3, 5, 3, 1, 2, 3, 4, 5, 1, 2, 3, 4, 5, 1, 2, 3, 4, 5, 1, 2, 3, 4, 5, 1, 2, 3, 4, 5, 1, 2, 3, 4, 5, 1, 1, 2, 3, 4, 5, 5, 2, 3, 1, 3, 1, 2, 3, 4, 5, 1, 2, 3, 4, 5, 1, 2, 3, 4, 5, 1, 2, 3, 4, 5, 2, 5, 1, 2, 3, 4, 5, 1, 2, 3, 4, 5, 1, 2, 1, 2, 3, 4, 5, 1, 2, 3, 4, 5, 1, 1, 3, 1, 2, 3, 4, 5, 1, 2, 3, 4, 5, 1, 2, 3, 4, 1, 2, 3, 4, 5, 1, 2, 1, 2, 3, 4, 5, 1, 2, 3, 4, 5, 1, 2, 3, 4, 5, 1, 2, 3, 4, 5, 2, 3, 4, 5, 1, 2, 4, 1, 2, 3, 4, 1, 2, 3, 4, 5, 1, 2, 3, 4, 5, 1, 2, 3, 4, 5, 1, 2, 3, 4, 5, 1, 2, 3, 4, 5, 3, 4, 1, 2, 3, 4, 5, 1, 2, 3, 4, 5, 1, 2, 3, 4, 5, 1, 2, 3, 4, 5, 1, 4, 1, 4, 2, 1, 2, 3, 4, 5, 1, 3, 4, 5, 1, 3, 4, 1, 2, 3, 4, 5, 1, 2, 3, 4, 5, 3, 4, 1, 2, 3, 4, 5, 1, 1, 1, 3, 5, 1, 2, 3, 4, 5, 1, 3, 1, 2, 3, 5, 1, 3, 1, 2, 3, 4, 5, 1, 2, 3, 1, 2, 3, 4, 5, 1, 2, 3, 4, 5, 1, 2, 3, 4, 5, 1, 2, 3, 5, 4, 1, 3, 5, 1, 2, 3, 4, 5, 1, 2, 3, 4, 5, 1, 2, 3, 4, 3, 1, 2, 3, 4, 5, 1, 2, 3, 4, 5, 1, 3, 3, 4, 3, 4, 1, 3, 1, 2, 3, 4, 5, 2, 1, 2, 3, 4, 5, 2, 3, 5, 1, 2, 3, 4, 5, 3, 4, 1, 2, 3, 4, 5, 1, 2, 3, 4, 5, 2, 3, 5, 4, 1, 2, 3, 4, 5, 1, 2, 3, 4, 5, 1, 2, 3, 4, 5, 1, 1, 2, 3, 4, 5, 1, 2, 3, 4, 5, 1, 2, 3, 4, 5, 1, 2, 3, 4, 5, 5, 4, 5, 1, 2, 3, 4, 5, 1, 2, 3, 4, 5, 4, 1, 2, 3, 4, 5, 5, 1, 2, 3, 4, 5, 1, 2, 3, 4, 5, 2, 1, 2, 3, 4, 5, 1, 2, 3, 4, 5, 1, 2, 3, 4, 5, 1, 3, 4, 1, 4, 1, 2, 3, 4, 5, 1, 2, 3, 4, 5, 1, 2, 3, 4, 5, 1, 2, 3, 4, 5, 1, 1, 5, 1, 2, 3, 4, 5, 3, 4, 1, 2, 3, 4, 2, 5, 1, 2, 3, 4, 5, 1, 2, 3, 4, 5, 4, 1, 2, 3, 4, 5, 2, 4, 3, 1, 2, 4, 5, 1, 2, 1, 1, 2, 3, 4, 5, 1, 3, 4, 3, 1, 1, 4, 1, 2, 3, 4, 5, 1, 3, 4, 5, 3, 3, 1, 1, 3, 1, 2, 3, 4, 5, 1, 2, 5, 4, 1, 2, 3, 4, 5, 1, 2, 3, 4, 5, 5, 4, 1, 2, 3, 4, 5, 1, 2, 3, 4, 5, 1, 2, 3, 4, 1, 1, 2, 3, 4, 5, 1, 3, 1, 2, 3, 4, 5, 5, 3, 1, 2, 3, 4, 5, 1, 2, 3, 4, 5, 1, 2, 3, 4, 5, 4, 1, 3, 5, 1, 5, 4, 1, 2, 3, 4, 5, 3, 1, 1, 5], \"Freq\": [0.11021694727415363, 0.283415007276395, 0.1172148486883856, 0.06997901414231976, 0.41812460950036057, 0.23610516136143764, 0.7083154840843129, 0.11770175669138118, 0.11770175669138118, 0.11770175669138118, 0.5885087834569058, 0.09585840922752008, 0.3159107322969844, 0.21040619383902207, 0.1923197015319428, 0.18568798768601374, 0.8081272809141004, 0.011839601853810828, 0.2959900463452707, 0.1302356203919191, 0.07103761112286497, 0.485423676006244, 0.4917288893172756, 0.008698243935977368, 0.687161270942212, 0.14787014691161524, 0.026094731807932103, 0.13047365903966052, 0.08703712817639582, 0.30462994861738535, 0.11604950423519442, 0.4932103929995763, 0.49740224589597026, 0.1542744933794988, 0.09841648715588716, 0.14363487314642992, 0.10506624980155521, 0.03240959836755048, 0.2614374268315739, 0.15556607216424231, 0.06914047651744103, 0.4818226957309172, 0.7004906536758271, 0.8211878190967294, 0.07501333309801639, 0.29323393847406404, 0.11592969660602533, 0.0681939391800149, 0.44667030162909754, 0.2583296923048608, 0.0861098974349536, 0.6027692820446753, 0.5501291450200325, 0.16854010483893123, 0.09020456315323079, 0.11156880179478545, 0.07952244383245347, 0.016563494801927064, 0.7619207608886449, 0.03312698960385413, 0.1821984428211977, 0.753480129797696, 0.1340246657070077, 0.8041479942420462, 0.8439777859912715, 0.05794861241307533, 0.7533319613699793, 0.05794861241307533, 0.05794861241307533, 0.05794861241307533, 0.5299593302255163, 0.12653008230297794, 0.1393664674641496, 0.11185992783306745, 0.09352223474567935, 0.4275826791501296, 0.12798095673221338, 0.3354071780227469, 0.21176888848503972, 0.15352605787636775, 0.17115217766583427, 0.2904937313414785, 0.20820795336492234, 0.17392221254135729, 0.14774037409427124, 0.1795326064943043, 0.521599926729462, 0.16447859460583467, 0.14194728027626827, 0.09575808590065717, 0.07660646872052573, 0.034332003760245866, 0.4865972807318602, 0.13993080232966637, 0.04784170921102854, 0.2912642918288007, 0.10574567861874593, 0.5022919734390431, 0.3701098751656107, 0.01321820982734324, 0.2060004281902066, 0.32401072373635514, 0.21169390736129273, 0.08281424248852527, 0.1759802652881162, 0.49920360021505705, 0.11443537679348484, 0.13433718145322132, 0.11277689307184013, 0.13931263261815546, 0.4916796225487671, 0.6626722494346989, 0.028460293055933592, 0.22768234444746874, 0.14230146527966794, 0.056920586111867184, 0.5407455680627382, 0.6841710643730324, 0.13683421287460648, 0.06841710643730324, 0.20909356581579203, 0.627280697447376, 0.5365917257754744, 0.07801510906664699, 0.2397537498145737, 0.10084879952517782, 0.04376457337885076, 0.17515355215138098, 0.17515355215138098, 0.525460656454143, 0.012511677345475645, 0.6964833722314776, 0.07507006407285387, 0.012511677345475645, 0.20852795575792743, 0.10004945138247974, 0.11005439652072772, 0.4702324214976548, 0.2901434090091913, 0.030014835414743923, 0.7006068643833004, 0.8065859238532402, 0.13443098730887337, 0.4271746658003085, 0.2747856397581711, 0.07851018278804889, 0.6280814623043911, 0.2732805756877743, 0.03874873834378889, 0.35281745965660416, 0.3079504994690591, 0.028551701937528658, 0.48191921202668514, 0.12382697348623856, 0.12382697348623856, 0.12382697348623856, 0.6191348674311927, 0.33598582119063414, 0.10132905718447696, 0.36265136255497016, 0.07466351582014091, 0.12586135523966613, 0.1152198339662431, 0.3310420602761462, 0.2270002699036431, 0.1478941152402523, 0.17884869749984003, 0.015663515477980793, 0.2976067940816351, 0.15663515477980794, 0.06526464782491997, 0.4646842925134302, 0.023955103291961155, 0.28746123950353386, 0.15171565418242064, 0.06654195358878098, 0.46845535326501814, 0.012967612498947805, 0.39450358913465655, 0.019883672498386632, 0.00316986083307613, 0.5694222732871302, 0.4326738942192489, 0.35725932785685566, 0.057841986414919486, 0.3096247508092749, 0.24497782481612956, 0.030622228102016195, 0.12125765529581077, 0.3143948485247053, 0.20251278513320975, 0.16626049643652405, 0.19563735107004523, 0.42515923155684543, 0.15017412642208539, 0.7508706321104269, 0.15017412642208539, 0.24317183392009023, 0.5845949138684997, 0.11790149523398315, 0.03193165495920377, 0.01965024920566386, 0.19526238942286997, 0.683418362980045, 0.09763119471143498, 0.8337555378801123, 0.7228151028981695, 0.1204691838163616, 0.6805825363874908, 0.1701456340968727, 0.41686274266350537, 0.16044993225906562, 0.10133679932151513, 0.17503628973716248, 0.14663127780613172, 0.43829950619461844, 0.15881109843539085, 0.7940554921769541, 0.07994608112671689, 0.2598247636618299, 0.11991912169007533, 0.03312051932392557, 0.5076576151546522, 0.2770224338965197, 0.5540448677930394, 0.18903400625558248, 0.7561360250223299, 0.11988091631342428, 0.2672574556345147, 0.22656393358316881, 0.07148861981993192, 0.3145499272077004, 0.5224669327917676, 0.14823171248417835, 0.16152603647379074, 0.10834874051534113, 0.05982445795325583, 0.24684231882928287, 0.49368463765856574, 0.4216615888676617, 0.17318243828493246, 0.15127794016193705, 0.14580181563118821, 0.10746894391594623, 0.5319032237950946, 0.1475844156163854, 0.13859450197477816, 0.10038736899794742, 0.08165838224459902, 0.4494369882818579, 0.161355246612667, 0.16798628414469444, 0.11788511168048732, 0.1031494727204264, 0.1097440136068627, 0.3668814469484899, 0.24992797259373112, 0.10573875763580932, 0.16741969959003142, 0.15846681339667978, 0.10564454226445319, 0.15846681339667978, 0.4754004401900393, 0.10564454226445319, 0.15413423564658732, 0.15413423564658732, 0.15413423564658732, 0.6165369425863493, 0.15242162108945748, 0.15242162108945748, 0.6096864843578299, 0.2770832745192688, 0.5541665490385376, 0.8583153687284667, 0.022538006220540946, 0.534714197582334, 0.18988270240805746, 0.03324355917529789, 0.2197455606502742, 0.3832822010247177, 0.13472381101542436, 0.15044941264962894, 0.17039980278257505, 0.16101138389648276, 0.2899947657873011, 0.2567596135575513, 0.21277722460133336, 0.13826907082539958, 0.10214390535828015, 0.4209770737926411, 0.17920380486122528, 0.16523198278729925, 0.12392398709047445, 0.1099521650165484, 0.9313147745192987, 0.135984509501485, 0.35350021288351025, 0.17704766554350893, 0.15116002369092862, 0.18210617027332346, 0.3580046602689216, 0.24070471677033461, 0.19579061201065262, 0.12166053619370173, 0.08372337974620335, 0.45468028525314674, 0.17917485817179088, 0.13871601922977359, 0.13197287940610403, 0.09536726322046934, 0.09652048623234694, 0.40520392805089045, 0.14933358247268771, 0.035512254368505004, 0.3127810096302941, 0.49180677772886194, 0.1270050469959149, 0.16078298502674332, 0.1418673397294794, 0.0797159337527551, 0.49179453934743583, 0.5166140438843339, 0.09330153300921079, 0.13822449334697895, 0.1399522995138162, 0.1123074008444204, 0.39289708366339066, 0.0992299801743717, 0.1957780689926793, 0.2252788739093844, 0.08716146907208325, 0.3402073707183846, 0.6804147414367692, 0.2571319072031409, 0.2719401747133022, 0.19646114128772268, 0.11523132436305139, 0.1592967029248421, 0.29144677990391227, 0.5828935598078245, 0.021201364288623126, 0.263502670444316, 0.09994928878922331, 0.009086298980838483, 0.6027244990622861, 0.7224386573031333, 0.047115564606726085, 0.09423112921345217, 0.09423112921345217, 0.047115564606726085, 0.753055451904391, 0.08111398272789684, 0.6579245265707189, 0.09012664747544094, 0.01802532949508819, 0.16222796545579368, 0.8026221463615119, 0.06174016510473168, 0.06174016510473168, 0.7446890993344425, 0.785362413890907, 0.1427931661619831, 0.4919259265348927, 0.09385308149962543, 0.2815592444988763, 0.06256872099975029, 0.031284360499875145, 0.5631184889977526, 0.014657781310325807, 0.21986671965488708, 0.16123559441358387, 0.08794668786195484, 0.5130223458614032, 0.4740619183886758, 0.12883476937739738, 0.17136275150197514, 0.1463462914286941, 0.08005267223449934, 0.0127353372633083, 0.1146180353697747, 0.509413490532332, 0.3438541061093241, 0.0127353372633083, 0.04981603285631983, 0.6476084271321578, 0.07698841441431246, 0.045287302596654394, 0.17662048012695214, 0.6969627015162964, 0.1291529403900769, 0.7103411721454229, 0.10762745032506409, 0.06457647019503845, 0.6449594176846938, 0.0862973868733041, 0.10900722552417359, 0.0953813223336519, 0.06358754822243459, 0.2688805914146116, 0.29749271437551167, 0.16653722851600775, 0.10637840588026927, 0.16066807508813083, 0.18883478759071282, 0.7553391503628513, 0.23934147525779823, 0.13296748625433236, 0.07978049175259941, 0.02659349725086647, 0.505276447766463, 0.4536908782076533, 0.23290019054019737, 0.6987005716205922, 0.3514808807321026, 0.18409312289295487, 0.21182402888227475, 0.1369839934412187, 0.11526701887126939, 0.26192303791675625, 0.32385409071137566, 0.17310484512837523, 0.07099413369139299, 0.17023486951106362, 0.009432055509061246, 0.5847874415617973, 0.1603449436540412, 0.018864111018122492, 0.22636933221746994, 0.13963530505857671, 0.13963530505857671, 0.13963530505857671, 0.5585412202343069, 0.8262912973847728, 0.03266020973720895, 0.528501575747563, 0.10688795913995656, 0.020783769832769333, 0.3109082303555086, 0.2333523947728781, 0.7000571843186344, 0.045242082887402835, 0.4727263306423903, 0.12112053686391311, 0.038473582297948866, 0.3223943701818863, 0.7206406894427839, 0.065512789949344, 0.131025579898688, 0.08830687584790141, 0.14717812641316902, 0.17661375169580282, 0.5592768803700423, 0.9415652822994749, 0.1775669078128415, 0.1775669078128415, 0.1775669078128415, 0.5327007234385246, 0.1359426351209381, 0.06797131756046905, 0.20391395268140713, 0.5437705404837524, 0.06797131756046905, 0.4352494684767183, 0.18000928908112712, 0.14962355343879483, 0.13348768002872874, 0.10142549000612984, 0.44358549444321504, 0.2043134589116735, 0.1421648782541302, 0.11497487421645504, 0.09477658550275347, 0.053674660819002705, 0.34071741215540846, 0.13768717340526782, 0.0606757035345248, 0.4107278393106294, 0.8245963812004952, 0.08245963812004951, 0.7484192839727566, 0.0997892378630342, 0.0498946189315171, 0.0498946189315171, 0.15459987184184437, 0.15459987184184437, 0.6183994873673775, 0.27481658568683964, 0.5496331713736793, 0.056918010559263814, 0.6586226936143385, 0.19108189259181424, 0.028459005279631907, 0.060983582742068373, 0.029671919226907064, 0.4966622787519213, 0.11777469477756958, 0.022824553251466973, 0.3332384774714178, 0.18689029827572218, 0.7475611931028887, 0.6762674469049089, 0.697638233362103, 0.04103503662121476, 0.6975956225606508, 0.12310510986364426, 0.12310510986364426, 0.7466731151613484, 0.3516446281304281, 0.22864785237180305, 0.12457365749912028, 0.21130215322635593, 0.08515161398674044, 0.5147672587581101, 0.08321425611503284, 0.18191023429797876, 0.1412707138697069, 0.07934382559805457, 0.4671475167855013, 0.12568492713514678, 0.1356952310662647, 0.20576735858408987, 0.06562310354843948, 0.3086646858060623, 0.20013874604776644, 0.19168217931335377, 0.16842662079371892, 0.13107678438339632, 0.3566519389718929, 0.2074177528018356, 0.1892076288941798, 0.13635385462561783, 0.11014904217313753, 0.13405262898056355, 0.6824497475374144, 0.06093301317298343, 0.036559807903790056, 0.0853062184421768, 0.7737576944192637, 0.7565533196764423, 0.05217609101216844, 0.07826413651825266, 0.07826413651825266, 0.02608804550608422, 0.3958465792662941, 0.2337031640341254, 0.7011094921023762, 0.8618216917094862, 0.1231173845299266, 0.11307155713129817, 0.056535778565649085, 0.22614311426259634, 0.5653577856564909, 0.11307155713129817, 0.46144512370743557, 0.16429160751193528, 0.1457195127497165, 0.14429089007569967, 0.08428873776699287, 0.4742106242499054, 0.13190611457500803, 0.10031378589901845, 0.17033801956229433, 0.12343806771340257, 0.22233306485081292, 0.4219113597382164, 0.18156410199970435, 0.0701605407205124, 0.10429269566562653, 0.8068432144633808, 0.15368442180254874, 0.3725088821358801, 0.1427578949502774, 0.15391085549326783, 0.24313453983719122, 0.0869930922353253, 0.35925028200382203, 0.24194847615410744, 0.13307166188475908, 0.13458383986072225, 0.13112743305852073, 0.27219679491658366, 0.8165903847497509, 0.007398841359433811, 0.18003847307955606, 0.053025029742608976, 0.003082850566430754, 0.756223243945464, 0.39196396645554016, 0.1200150255596768, 0.2400300511193536, 0.2093879169339042, 0.03830266773181174, 0.7536265287453141, 0.20857487168840758, 0.6257246150652227, 0.1086506707372223, 0.3395333460538197, 0.20531781161372156, 0.17535898696191393, 0.17096502601298214, 0.1551169928127861, 0.5301016497501176, 0.13305907181647247, 0.039846566961082665, 0.14230916771815239, 0.1343297244745313, 0.7164251971975002, 0.04477657482484376, 0.04477657482484376, 0.13461793676063397, 0.3344060522521169, 0.1685869488404201, 0.12706926740957036, 0.2352668614414818, 0.8598443969842677, 0.10748054962303347, 0.018916401528628113, 0.580102980211262, 0.15763667940523426, 0.018916401528628113, 0.22699681834353733, 0.4302606256413809, 0.2127070677451132, 0.1707041531017744, 0.09316031068330274, 0.09316031068330274, 0.2358960014141108, 0.6192270037120409, 0.09091825054502187, 0.03440150020622449, 0.019658000117842567, 0.2877678853110938, 0.4281424635116274, 0.14037457820053356, 0.08578446445588161, 0.05848940758355565, 0.39354759292904823, 0.49193449116131027, 0.04919344911613103, 0.04919344911613103, 0.7547121298990526, 0.7821190375526011, 0.11173129107894302, 0.8100991519111377, 0.07364537744646707, 0.07364537744646707, 0.07364537744646707, 0.05272412346256378, 0.6942009589237563, 0.06151147737299107, 0.01757470782085459, 0.1757470782085459, 0.05106131892390888, 0.5293052792023055, 0.12218244171078196, 0.01550075753047234, 0.2822049679812464, 0.09973626884287609, 0.2654183766474353, 0.2016525654200227, 0.08393106776941485, 0.3493494444168501, 0.15036586509654531, 0.7088676497408566, 0.06444251361280513, 0.06444251361280513, 0.04296167574187009, 0.04453314532957545, 0.5520152519973748, 0.0944494181165721, 0.016149382372263626, 0.29264638359435297, 0.27658064733941445, 0.5531612946788289, 0.15513652005110856, 0.6802139725317837, 0.04773431386187956, 0.02386715693093978, 0.08353504925828922, 0.3594923424495913, 0.14862404263817025, 0.20197626307238523, 0.2032465540351046, 0.08637978546491946, 0.041188372904672275, 0.4540082013355921, 0.13433026163228343, 0.03603982629158824, 0.3346555298504622, 0.5407131888080532, 0.12775091823486973, 0.09507045077943793, 0.13072186982172715, 0.10398330554001024, 0.8532190175935077, 0.08532190175935077, 0.19000094050876104, 0.5700028215262831, 0.6060188315997372, 0.40460772107013276, 0.1741745316123535, 0.1829827053154252, 0.1318384709104927, 0.10626635370802644, 0.11676108849353613, 0.5838054424676806, 0.11676108849353613, 0.11676108849353613, 0.9270454506692464, 0.27758686722885273, 0.5551737344577055, 0.3282495561264516, 0.21214842694989317, 0.24381237127077274, 0.12032298841934239, 0.09393636815194274, 0.24091386827409667, 0.17345798515734961, 0.32764286085277144, 0.12206302659220898, 0.13491176623349413, 0.27717430150003863, 0.5543486030000773, 0.02672157198598515, 0.5951622851423966, 0.09959858649321737, 0.002429233816907741, 0.2745034213105747, 0.8488586430068159, 0.93963038914046, 0.25661496216979723, 0.5132299243395945, 0.12830748108489862, 0.3471159750424791, 0.23436883381717646, 0.13594199138793195, 0.10044378592164706, 0.18212999736395039, 0.3306020181843511, 0.5510033636405851, 0.009090072752678924, 0.3090624735910834, 0.10908087303214709, 0.5726745834187722, 0.1836906055318531, 0.7347624221274124, 0.11325479850390313, 0.056627399251951566, 0.1698821977558547, 0.5662739925195157, 0.11325479850390313, 0.1763953863017704, 0.7055815452070816, 0.1763953863017704, 0.5955701708694605, 0.12261738812018305, 0.10947981082159201, 0.11823819568731937, 0.056929501627227846, 0.3234879822509006, 0.2135871106267321, 0.25872496861522987, 0.14424489400672108, 0.05985672472387745, 0.1682192643366442, 0.3159794289566695, 0.159126331129258, 0.23414303009019394, 0.12048136499786678, 0.03157194827796275, 0.22100363794573927, 0.126287793111851, 0.5998670172812922, 0.454268214917281, 0.19654986793790888, 0.6879245377826811, 0.09827493396895444, 0.19067055567969893, 0.06355685189323297, 0.12711370378646594, 0.4448979632526308, 0.12711370378646594, 0.044990060415954866, 0.5398807249914583, 0.28493704930104746, 0.09872818813501207, 0.031243097511079766, 0.1404234794529351, 0.1404234794529351, 0.1404234794529351, 0.5616939178117404, 0.6781704109435291, 0.018010523369913267, 0.6934051497416608, 0.20712101875400254, 0.036021046739826534, 0.04502630842478316, 0.025125347502870165, 0.2847539383658619, 0.39363044421163257, 0.20100278002296132, 0.0921262741771906, 0.2103003445376311, 0.6309010336128933, 0.27553553558888194, 0.5510710711777639, 0.2771222733409712, 0.5542445466819425, 0.8680461792799061, 0.1240065970399866, 0.5036463553091289, 0.12813617520232257, 0.14949220440270966, 0.1352548516024516, 0.08186477860148386, 0.7055912527583915, 0.5305437011981136, 0.08981645335243656, 0.2067867181835167, 0.1253252837475859, 0.04804135876990793, 0.7654167097693656, 0.11775641688759471, 0.058878208443797354, 0.026776233701890906, 0.660480431313309, 0.11603034604152726, 0.017850822467927272, 0.17850822467927271, 0.27682773924692644, 0.5536554784938529, 0.16868161141755475, 0.08434080570877737, 0.11245440761170317, 0.5903856399614417, 0.05622720380585158, 0.014105296425809648, 0.23979003923876402, 0.18336885353552543, 0.06770542284388631, 0.49086431561817573, 0.75442918431391, 0.06286909869282584, 0.12573819738565167, 0.45357808498251745, 0.13885789928378198, 0.3604133919187941, 0.22340693129212924, 0.11478919674125977, 0.16230945560726515, 0.15018964605695032, 0.3075936419244965, 0.2557814932847626, 0.14887794609138744, 0.13707264640132147, 0.12913485711144676, 0.6743709204708886, 0.057393269827309676, 0.028696634913654838, 0.10043822219779193, 0.7609500767896855, 0.07887579337489611, 0.34389845911454703, 0.20428830484098093, 0.17589301922601833, 0.19640072550349133, 0.6317188222036543, 0.08614347575504376, 0.09332209873463075, 0.07896485277545678, 0.11485796767339168, 0.4225100500488981, 0.14050685505139, 0.1256645816304685, 0.18602316020888252, 0.1256645816304685, 0.4398926351718337, 0.2020892898215157, 0.12282150803807634, 0.13850084948974567, 0.09668927228529414, 0.4272707168983428, 0.18708982020467493, 0.7483592808186997, 0.4813098625686374, 0.15004396525419061, 0.17245312889605025, 0.10717426089585043, 0.08866234310474899, 0.28190681937348155, 0.5638136387469631, 0.11326613278398813, 0.027687276902752654, 0.010068100691910057, 0.4532605925073584, 0.2666941084317178, 0.10667764337268713, 0.08000823252951535, 0.026669410843171783, 0.5333882168634356, 0.6188141235193332, 0.559673988387516, 0.1237740551241622, 0.10224813249387313, 0.11839257446658993, 0.09686665183630086, 0.10457102531149544, 0.417394135073118, 0.1286001119788178, 0.046723224075349026, 0.30258849877368893, 0.6963717909719466, 0.2779312653595904, 0.19055488093216066, 0.2928038414323444, 0.16173926479119977, 0.0780810243819585, 0.018916092183510046, 0.31616896935295363, 0.1999701173685348, 0.07025977096732303, 0.397237935853711, 0.033428232850646104, 0.621636560895669, 0.12342732129469332, 0.011571311371377499, 0.21021215658002457, 0.16108715578693528, 0.6443486231477411, 0.16108715578693528, 0.21031660544559316, 0.6309498163367795, 0.1800464620060513, 0.6366591388461401, 0.12250584012782871, 0.04269142913545546, 0.016705341835613004, 0.0613444076874503, 0.3685367184153211, 0.19902968388543288, 0.12018069649159768, 0.2509163932837618, 0.09879431926942146, 0.3197343423628549, 0.12394196417436511, 0.028740165605649882, 0.4293062237343951, 0.33314358176598274, 0.17028714681346702, 0.19629463832679653, 0.16471411291775356, 0.135610491462361, 0.9131644990007581, 0.7970836367596194, 0.15941672735192386, 0.3289438122018853, 0.14834720942437962, 0.12899757341250404, 0.2805697221721963, 0.10964793740062842, 0.2767501055618403, 0.5535002111236806, 0.15369180136636093, 0.15369180136636093, 0.15369180136636093, 0.6147672054654437, 0.22177938281098958, 0.44355876562197916, 0.1519226497594907, 0.21920268036726517, 0.15626329689547616, 0.09766456055967261, 0.37546597726274133, 0.41185077922009306, 0.19443839508758134, 0.11935267479439432, 0.12831813393387934, 0.14624905221284937, 0.648065234279391, 0.27631074052941174, 0.5787982880563467, 0.10470722799009287, 0.026176806997523217, 0.011634136443343652, 0.252103556021462, 0.504207112042924, 0.7496360164350929, 0.1577121477910629, 0.1577121477910629, 0.6308485911642516, 0.1577121477910629, 0.7605884878739827, 0.6942307518367729, 0.9597678590906533, 0.337777055715507, 0.1812462250180769, 0.2842270346874388, 0.11190581317403991, 0.08375772519774767, 0.2840306659225439, 0.5680613318450878, 0.14201533296127195, 0.668049315550644, 0.8840995869133836, 0.8934716345499979, 0.09927462606111087, 0.24512491489110602, 0.040854152481851, 0.43577762647307733, 0.2587429657183897, 0.027236101654567333, 0.19338620608364754, 0.19338620608364754, 0.5801586182509426, 0.19338620608364754, 0.492128410635577, 0.4250687796953031, 0.9100591202386213, 0.2075272110737212, 0.6225816332211636, 0.06021634853190175, 0.6881868403645914, 0.06881868403645915, 0.017204671009114787, 0.16344437458659047, 0.9087224683971977, 0.8312284563437834, 0.16624569126875668, 0.45803519036363305, 0.01461520472720769, 0.23384327563532303, 0.1607672519992846, 0.08769122836324614, 0.5115321654522692, 0.10163705005658276, 0.3856508628315196, 0.14390666433245128, 0.03989491684463996, 0.3291330639682797, 0.7090130739585715, 0.45431403679306176, 0.3094882708628332, 0.1657214081965743, 0.21883724415701478, 0.14093401808170208, 0.1643049859042959, 0.08521443713519114, 0.48549804315181266, 0.1468827797988163, 0.12557917051501852, 0.15697396314377315, 0.19817301187488762, 0.19817301187488762, 0.5945190356246628, 0.19817301187488762, 0.7919971012108542, 0.0845788546877027, 0.61218980535861, 0.2013782254469112, 0.03222051607150579, 0.0684685966519498, 0.28606451112873177, 0.5721290222574635, 0.3864571844587236, 0.18598728403930684, 0.11662317400825388, 0.11509868807350546, 0.19589644261517153, 0.557312822299393, 0.757832013340791, 0.05592718266785544, 0.45294872116713697, 0.10693768993633898, 0.026427130271624, 0.3583027197292277, 0.40798758654923667, 0.1880290616270395, 0.19015769251338335, 0.1433278130138188, 0.07095436287812812, 0.38030185587705595, 0.1846125513966291, 0.23630406578768526, 0.1476900411173033, 0.0526145771480393, 0.45465021198853545, 0.20414462850492043, 0.6124338855147613, 0.20414462850492043, 0.7526173487495249, 0.42828178390268845, 0.4535604933435907, 0.023082169897300987, 0.5056094358456407, 0.08793207579924185, 0.0032974528424715693, 0.37975665235797573, 0.4921770570227498, 0.9043721672602214, 0.8801749806717445, 0.08801749806717445], \"Term\": [\"abends\", \"abends\", \"abends\", \"abends\", \"abends\", \"abschiebehaft\", \"abschiebehaft\", \"abzuweisen\", \"abzuweisen\", \"abzuweisen\", \"abzuweisen\", \"allee\", \"allee\", \"allee\", \"allee\", \"allee\", \"allenfeiertagen\", \"allerwelle\", \"allerwelle\", \"allerwelle\", \"allerwelle\", \"allerwelle\", \"altharen\", \"amtsgarten\", \"amtsgarten\", \"amtsgarten\", \"amtsgarten\", \"amtsgarten\", \"amtsstr\", \"amtsstr\", \"amtsstr\", \"amtsstr\", \"angst\", \"angst\", \"angst\", \"angst\", \"angst\", \"ansprechpartnerin\", \"ansprechpartnerin\", \"ansprechpartnerin\", \"ansprechpartnerin\", \"ansprechpartnerin\", \"antragstellenden\", \"anwochenenden\", \"apothekenapotheke\", \"apothekenapotheke\", \"apothekenapotheke\", \"apothekenapotheke\", \"apothekenapotheke\", \"apothekenreislinger\", \"apothekenreislinger\", \"apothekenreislinger\", \"arbeit\", \"arbeit\", \"arbeit\", \"arbeit\", \"arbeit\", \"arbeittelefonseelsorge\", \"arbeittelefonseelsorge\", \"arbeittelefonseelsorge\", \"arbeittelefonseelsorge\", \"argentinischen\", \"aufenthaltsgenehmigungen\", \"aufenthaltsgenehmigungen\", \"balkons\", \"beisexueller\", \"beisexueller\", \"beisexueller\", \"beisexueller\", \"beisexueller\", \"beispielsweise\", \"beispielsweise\", \"beispielsweise\", \"beispielsweise\", \"beispielsweise\", \"bel\\u00fcftungseinrichtung\", \"beratung\", \"beratung\", \"beratung\", \"beratung\", \"beratung\", \"beratungsstelle\", \"beratungsstelle\", \"beratungsstelle\", \"beratungsstelle\", \"beratungsstelle\", \"bereich\", \"bereich\", \"bereich\", \"bereich\", \"bereich\", \"bereitschaftsdienst\", \"bereitschaftsdienst\", \"bereitschaftsdienst\", \"bereitschaftsdienst\", \"bereitschaftsdienst\", \"bereitschaftsdienstpraxis\", \"bereitschaftsdienstpraxis\", \"bereitschaftsdienstpraxis\", \"bereitschaftsdienstpraxis\", \"betroffene\", \"betroffene\", \"betroffene\", \"betroffene\", \"betroffene\", \"beziehungstat\", \"beziehungstat\", \"beziehungstat\", \"beziehungstat\", \"beziehungstat\", \"bin\\u00e4r\", \"blusenaktion\", \"bokensdorfer\", \"bokensdorfer\", \"bokensdorfer\", \"bokensdorfer\", \"bokensdorfer\", \"botanischen\", \"botanischen\", \"botanischen\", \"brenner\", \"brenner\", \"b\\u00fcrgerb\\u00fcro\", \"b\\u00fcrgerb\\u00fcro\", \"b\\u00fcrgerb\\u00fcro\", \"b\\u00fcrgerb\\u00fcro\", \"b\\u00fcrgerb\\u00fcro\", \"b\\u00fcrgerplatz\", \"b\\u00fcrgerplatz\", \"b\\u00fcrgerplatz\", \"c\", \"c\", \"c\", \"c\", \"c\", \"campus\", \"campus\", \"campus\", \"campus\", \"campus\", \"cannabispflanzen\", \"cmo\", \"cmo\", \"c\\u00f6lpiner\", \"denkmalplatz\", \"denkmalplatz\", \"denkmalplatz\", \"depp\", \"depp\", \"depp\", \"depp\", \"depp\", \"dertelefonseelsorge\", \"di\", \"di\", \"di\", \"di\", \"dienst\", \"dienst\", \"dienst\", \"dienst\", \"dienst\", \"dienstag\", \"dienstag\", \"dienstag\", \"dienstag\", \"dienstag\", \"dienstschluss\", \"dienstschluss\", \"dienstschluss\", \"dienstschluss\", \"dienstschluss\", \"dienstzeit\", \"dienstzeit\", \"dienstzeit\", \"dienstzeit\", \"dienstzeit\", \"do\", \"do\", \"do\", \"do\", \"do\", \"dogrevesm\\u00fchlen\", \"dollar\", \"dollar\", \"dollar\", \"dollar\", \"dollar\", \"donnerstag\", \"donnerstag\", \"donnerstag\", \"donnerstag\", \"donnerstag\", \"economics\", \"edemissenedemissener\", \"edemissenedemissener\", \"edemissenedemissener\", \"eichsen\", \"eichsen\", \"eichsen\", \"eichsen\", \"eichsen\", \"einheitl\", \"einheitl\", \"einheitl\", \"eitelbrotstra\\u00dfe\", \"eiterer\", \"eiterer\", \"elm\", \"elm\", \"eltern\", \"eltern\", \"eltern\", \"eltern\", \"eltern\", \"emo\", \"empathen\", \"empathen\", \"entst\\u00f6rungsdienst\", \"entst\\u00f6rungsdienst\", \"entst\\u00f6rungsdienst\", \"entst\\u00f6rungsdienst\", \"entst\\u00f6rungsdienst\", \"erfrischenden\", \"erfrischenden\", \"erlernbar\", \"erlernbar\", \"erreichbar\", \"erreichbar\", \"erreichbar\", \"erreichbar\", \"erreichbar\", \"euro\", \"euro\", \"euro\", \"euro\", \"euro\", \"fachzentrum\", \"fachzentrum\", \"fall\", \"fall\", \"fall\", \"fall\", \"fall\", \"familie\", \"familie\", \"familie\", \"familie\", \"familie\", \"familien\", \"familien\", \"familien\", \"familien\", \"familien\", \"feiertagen\", \"feiertagen\", \"feiertagen\", \"feiertagen\", \"feiertagen\", \"femizids\", \"femizids\", \"femizids\", \"femizids\", \"femizids\", \"fernsehgeschichte\", \"fernsehgeschichte\", \"fernsehgeschichte\", \"fernsehgeschichte\", \"fernsehrolle\", \"fernsehrolle\", \"fernsehrolle\", \"fiat\", \"fiat\", \"fmg\", \"fr\", \"fr\", \"fr\", \"fr\", \"fr\", \"frau\", \"frau\", \"frau\", \"frau\", \"frau\", \"frauen\", \"frauen\", \"frauen\", \"frauen\", \"frauen\", \"frauenhaus\", \"frauenhaus\", \"frauenhaus\", \"frauenhaus\", \"frauenhaus\", \"frauentisch\", \"freitag\", \"freitag\", \"freitag\", \"freitag\", \"freitag\", \"f\\u00e4lle\", \"f\\u00e4lle\", \"f\\u00e4lle\", \"f\\u00e4lle\", \"f\\u00e4lle\", \"f\\u00e4llen\", \"f\\u00e4llen\", \"f\\u00e4llen\", \"f\\u00e4llen\", \"f\\u00e4llen\", \"gas\", \"gas\", \"gas\", \"gas\", \"gas\", \"geben\", \"geben\", \"geben\", \"geben\", \"geben\", \"geburtenregister\", \"gekommen\", \"gekommen\", \"gekommen\", \"gekommen\", \"gekommen\", \"gericht\", \"gericht\", \"gericht\", \"gericht\", \"gericht\", \"gesundheitsdienstes\", \"gesundheitsdienstes\", \"gewalt\", \"gewalt\", \"gewalt\", \"gewalt\", \"gewalt\", \"gewaltes\", \"gewaltes\", \"giftnotruf\", \"giftnotruf\", \"giftnotruf\", \"giftnotruf\", \"giftnotruf\", \"goldene\", \"goldene\", \"goldene\", \"goldene\", \"goldene\", \"golfstar\", \"gr\\u00f6pern\", \"gr\\u00f6pern\", \"gr\\u00f6pern\", \"gr\\u00f6pern\", \"gr\\u00f6pern\", \"gutshaus\", \"gutshaus\", \"gutshaus\", \"gzsz\", \"hainen\", \"hainen\", \"hegt\", \"hehlinger\", \"hehlinger\", \"hehlinger\", \"hehlinger\", \"hehlinger\", \"heiliger\", \"heiliger\", \"heiliger\", \"heiliger\", \"heiliger\", \"helfen\", \"helfen\", \"helfen\", \"helfen\", \"helfen\", \"helios\", \"helios\", \"helios\", \"helios\", \"helios\", \"helmstedter\", \"helmstedter\", \"helmstedter\", \"helmstedter\", \"helmstedter\", \"helmstedtgr\\u00f6pern\", \"helmstedtneum\\u00e4rker\", \"helmstedtneum\\u00e4rker\", \"helmstedtneum\\u00e4rker\", \"helmstedtneum\\u00e4rker\", \"herz\", \"herz\", \"herz\", \"herz\", \"herz\", \"hilfe\", \"hilfe\", \"hilfe\", \"hilfe\", \"hilfe\", \"hochempathen\", \"hochempathen\", \"hoffmannhaus\", \"hoffmannhaus\", \"hoffmannhaus\", \"hoffmannhaus\", \"hoffmannhaus\", \"hot\", \"humanit\\u00e4ren\", \"humanit\\u00e4ren\", \"h\\u00e4usliche\", \"h\\u00e4usliche\", \"h\\u00e4usliche\", \"h\\u00e4usliche\", \"h\\u00e4usliche\", \"h\\u00e4uslicher\", \"h\\u00e4uslicher\", \"h\\u00e4uslicher\", \"h\\u00e4uslicher\", \"h\\u00e4uslicher\", \"h\\u00f6rbehinderte\", \"h\\u00f6rbehinderte\", \"h\\u00f6rbehinderte\", \"h\\u00f6rbehinderte\", \"h\\u00f6rbehinderte\", \"h\\u00f6rspieldramaturg\", \"h\\u00f6rspieldramaturg\", \"h\\u00f6rspieldramaturg\", \"h\\u00f6rspieldramaturg\", \"industriespionage\", \"interventionsstelle\", \"interventionsstelle\", \"interventionsstelle\", \"interventionsstelle\", \"interventionsstelle\", \"januar\\u00e4rzteallgemeiner\", \"januar\\u00e4rzteallgemeiner\", \"jugendtelefon\", \"jugendtelefon\", \"jugendtelefon\", \"jugendtelefon\", \"jugendtelefon\", \"kanzlerfeld\", \"kanzlerfeld\", \"kanzlerfeld\", \"kaufhofpassage\", \"kaufhofpassage\", \"kaufhofpassage\", \"kaufhofpassage\", \"keffel\", \"ketschendorfer\", \"ketschendorfer\", \"ketschendorfer\", \"ketschendorfer\", \"killers\", \"killers\", \"killers\", \"killers\", \"killers\", \"kinder\", \"kinder\", \"kinder\", \"kinder\", \"kinder\", \"kindern\", \"kindern\", \"kindern\", \"kindern\", \"kindern\", \"kinderschutz\", \"kinderschutz\", \"kinderschutz\", \"kinderschutz\", \"kinderschutz\", \"kindersiedlung\", \"kindersiedlung\", \"kindertage\", \"kindertage\", \"kindertage\", \"kindertage\", \"kinoproduktionen\", \"kinoproduktionen\", \"kinoproduktionen\", \"kleinstadtprotagonisten\", \"kleinstadtprotagonisten\", \"krisendienst\", \"krisendienst\", \"krisendienst\", \"krisendienst\", \"krisendienst\", \"kummer\", \"kummer\", \"kummer\", \"kummer\", \"kummer\", \"k\\u00f6nigsgemahlin\", \"k\\u00f6nigsgemahlin\", \"k\\u00f6nigsl\", \"k\\u00f6nigslutter\", \"k\\u00f6nigslutteram\", \"k\\u00f6nigslutteram\", \"k\\u00f6nigslutteram\", \"k\\u00f6nigslutteram\", \"k\\u00f6nigslutteramtsgarten\", \"landkreis\", \"landkreis\", \"landkreis\", \"landkreis\", \"landkreis\", \"landratsamt\", \"landratsamt\", \"landratsamt\", \"landratsamt\", \"landratsamt\", \"lassen\", \"lassen\", \"lassen\", \"lassen\", \"lassen\", \"laut\", \"laut\", \"laut\", \"laut\", \"laut\", \"leben\", \"leben\", \"leben\", \"leben\", \"leben\", \"lebensrettung\", \"lebensrettung\", \"lebensrettung\", \"lebensrettung\", \"lebensrettung\", \"leergut\", \"leserinnen\", \"leserinnen\", \"leserinnen\", \"leserinnen\", \"leserinnen\", \"lokalgericht\", \"lo\\u00dfau\", \"lo\\u00dfau\", \"luxusvilla\", \"luxusvilla\", \"machine\", \"machine\", \"machine\", \"machine\", \"machine\", \"mal\", \"mal\", \"mal\", \"mal\", \"mal\", \"mann\", \"mann\", \"mann\", \"mann\", \"mann\", \"markt\", \"markt\", \"markt\", \"markt\", \"markt\", \"mascherode\", \"mascherode\", \"meist\", \"meist\", \"meist\", \"meist\", \"meist\", \"menschen\", \"menschen\", \"menschen\", \"menschen\", \"menschen\", \"messung\", \"messung\", \"mi\", \"mi\", \"mi\", \"mi\", \"mi\", \"millionen\", \"millionen\", \"millionen\", \"millionen\", \"millionen\", \"ministeriumssprechers\", \"mistplatz\", \"mistplatz\", \"mittwoch\", \"mittwoch\", \"mittwoch\", \"mittwoch\", \"mittwoch\", \"mo\", \"mo\", \"mo\", \"mo\", \"mo\", \"mogrevesm\\u00fchlen\", \"mogrevesm\\u00fchlen\", \"mogrevesm\\u00fchlen\", \"mogrevesm\\u00fchlen\", \"montag\", \"montag\", \"montag\", \"montag\", \"montag\", \"motorhaube\", \"motorhaube\", \"m\\u00e4dchenberatung\", \"m\\u00e4dchenberatung\", \"m\\u00e4dchenberatung\", \"m\\u00e4dchenberatung\", \"m\\u00e4dchenberatung\", \"m\\u00e4nner\", \"m\\u00e4nner\", \"m\\u00e4nner\", \"m\\u00e4nner\", \"m\\u00e4nner\", \"m\\u00fchlen\", \"m\\u00fchlen\", \"m\\u00fchlen\", \"m\\u00fchlen\", \"m\\u00fchlen\", \"nacht\", \"nacht\", \"nacht\", \"nacht\", \"nacht\", \"naumburger\", \"naumburger\", \"naumburger\", \"naumburger\", \"neetze\", \"neustadtring\", \"neustadtring\", \"niedertr\\u00e4chtig\", \"niedertr\\u00e4chtig\", \"niedertr\\u00e4chtig\", \"niedertr\\u00e4chtig\", \"nordertor\", \"nordertor\", \"nordertor\", \"nordertor\", \"nordertor\", \"notarzt\", \"notarzt\", \"notarzt\", \"notarzt\", \"notarzt\", \"notdienst\", \"notdienst\", \"notdienst\", \"notdienst\", \"notdienst\", \"notdiensttel\", \"notdiensttel\", \"notdiensttel\", \"notdiensttel\", \"notdiensttel\", \"notfallrettung\", \"notfallrettung\", \"notfallrettung\", \"notfallrettung\", \"notfallrettung\", \"nothing\", \"nothing\", \"notruffeuerwehr\", \"notruffeuerwehr\", \"notruffeuerwehr\", \"notruffeuerwehr\", \"notruffeuerwehr\", \"november\", \"november\", \"november\", \"november\", \"november\", \"nummer\", \"nummer\", \"nummer\", \"nummer\", \"nummer\", \"n\\u00e4he\", \"n\\u00e4he\", \"n\\u00e4he\", \"n\\u00e4he\", \"n\\u00e4he\", \"obsession\", \"obsession\", \"offensichtlichste\", \"offensichtlichste\", \"ohg\", \"opfer\", \"opfer\", \"opfer\", \"opfer\", \"opfer\", \"ortsgruppe\", \"ortsgruppe\", \"ortsgruppe\", \"ortsgruppe\", \"oscarpreistr\\u00e4gerin\", \"pampa\", \"pampa\", \"partner\", \"partner\", \"partner\", \"partner\", \"partner\", \"partnerschaftsgewalt\", \"partnerschaftsgewalt\", \"partnerschaftsgewalt\", \"partnerschaftsgewalt\", \"partnerschaftsgewalt\", \"patate\", \"patate\", \"peine\", \"peine\", \"peine\", \"peine\", \"peine\", \"pfandbon\", \"pfandtastisch\", \"planetarium\", \"planetarium\", \"planetarium\", \"polizei\", \"polizei\", \"polizei\", \"polizei\", \"polizei\", \"pops\\u00e4nger\", \"pops\\u00e4nger\", \"porschestr\", \"porschestr\", \"porschestr\", \"porschestr\", \"postfach\", \"postfach\", \"pressure\", \"pressure\", \"pressure\", \"pressure\", \"pressure\", \"probanden\", \"probanden\", \"probanden\", \"projekte\", \"projekte\", \"projekte\", \"projekte\", \"projekte\", \"prozent\", \"prozent\", \"prozent\", \"prozent\", \"prozent\", \"rathaus\", \"rathaus\", \"rathaus\", \"rathaus\", \"rathaus\", \"reislinger\", \"reislinger\", \"reislinger\", \"reislinger\", \"risikoverhalten\", \"rufnr\", \"rufnr\", \"rufnr\", \"ruhige\", \"ruhige\", \"ruhige\", \"ruhige\", \"ruhige\", \"sa\", \"sa\", \"sa\", \"sa\", \"sa\", \"saarl\\u00e4ndischen\", \"saarl\\u00e4ndischen\", \"saarl\\u00e4ndischen\", \"saarl\\u00e4ndischen\", \"samstagapothekenapotheke\", \"samstags\", \"samstags\", \"samstags\", \"samstags\", \"samstags\", \"samstag\\u00e4rzteallgemeiner\", \"samstag\\u00e4rzteallgemeiner\", \"samstag\\u00e4rzteallgemeiner\", \"samstag\\u00e4rzteallgemeiner\", \"samstag\\u00e4rzteallgemeiner\", \"schadenersatzforderungen\", \"schadenersatzforderungen\", \"schluffiger\", \"schluffiger\", \"schmerzvoll\", \"schmerzvoll\", \"schokoladenfabrikanten\", \"schokoladenfabrikanten\", \"schule\", \"schule\", \"schule\", \"schule\", \"schule\", \"schwemme\", \"sch\\u00e4fergraben\", \"sch\\u00e4fergraben\", \"sch\\u00e4fergraben\", \"sch\\u00e4fergraben\", \"sch\\u00e4fergraben\", \"sch\\u00f6ningenniedernstr\", \"sch\\u00f6ningenniedernstr\", \"sch\\u00f6ningenniedernstr\", \"sch\\u00f6ninger\", \"sch\\u00f6ninger\", \"sch\\u00f6ninger\", \"sch\\u00f6ninger\", \"sch\\u00f6ninger\", \"sehns\\u00fcchtige\", \"sehns\\u00fcchtige\", \"senf\", \"senf\", \"senf\", \"senf\", \"senf\", \"servicetelefon\", \"servicetelefon\", \"servicetelefon\", \"servicetelefon\", \"servicetelefon\", \"sexualisiertergewalt\", \"sexualisiertergewalt\", \"sexualisiertergewalt\", \"sexualleben\", \"sonnabend\", \"sonnabend\", \"sonnabend\", \"sonnabend\", \"sonnabend\", \"sonntag\", \"sonntag\", \"sonntag\", \"sonntag\", \"sonntag\", \"sozialpsychiatrischefragen\", \"sozialpsychiatrischefragen\", \"sozialpsychiatrischefragen\", \"sozialpsychiatrischefragen\", \"sozialpsychiatrischefragen\", \"spendenkasten\", \"sprechstunde\", \"sprechstunde\", \"sprechstunde\", \"sprechstunde\", \"sprechstunde\", \"spur\", \"spur\", \"spur\", \"spur\", \"spur\", \"staatsanwaltschaft\", \"staatsanwaltschaft\", \"staatsanwaltschaft\", \"staatsanwaltschaft\", \"staatsanwaltschaft\", \"stadt\", \"stadt\", \"stadt\", \"stadt\", \"stadt\", \"stecklinge\", \"stehfest\", \"stehfest\", \"steht\", \"steht\", \"steht\", \"steht\", \"steht\", \"stepenitztal\", \"stepenitztal\", \"stepenitztal\", \"stepenitztal\", \"stepenitztal\", \"strafgesetze\", \"stralsunder\", \"stralsunder\", \"stralsunder\", \"stralsunder\", \"stralsunder\", \"streamingdienst\", \"streit\", \"streit\", \"streit\", \"streit\", \"streit\", \"strom\", \"strom\", \"strom\", \"strom\", \"strom\", \"stromwasser\", \"style\", \"style\", \"style\", \"style\", \"style\", \"st\\u00f6rungsannahme\", \"st\\u00f6rungsannahme\", \"st\\u00f6rungsannahme\", \"st\\u00f6rungsannahme\", \"st\\u00f6rungsannahme\", \"st\\u00f6rungsdienst\", \"st\\u00f6rungsdienst\", \"st\\u00f6rungsdienst\", \"st\\u00f6rungsdienst\", \"st\\u00f6rungsdienst\", \"s\\u00e4ngers\", \"s\\u00e4ngers\", \"s\\u00e4ngers\", \"t\", \"t\", \"ta\", \"ta\", \"ta\", \"ta\", \"ta\", \"telefon\", \"telefon\", \"telefon\", \"telefon\", \"telefon\", \"telefonseelsorge\", \"telefonseelsorge\", \"telefonseelsorge\", \"telefonseelsorge\", \"telefonseelsorge\", \"thema\", \"thema\", \"thema\", \"thema\", \"thema\", \"transaktivisten\", \"transmenschen\", \"transmenschen\", \"trennung\", \"trennung\", \"trennung\", \"trennung\", \"trennung\", \"trotzige\", \"trotzige\", \"type\", \"type\", \"type\", \"type\", \"t\\u00e4gl\", \"t\\u00e4gl\", \"t\\u00e4glich\", \"t\\u00e4glich\", \"t\\u00e4glich\", \"t\\u00e4glich\", \"t\\u00e4glich\", \"t\\u00e4ter\", \"t\\u00e4ter\", \"t\\u00e4ter\", \"t\\u00e4ter\", \"t\\u00e4ter\", \"t\\u00f6tungsdeliktan\", \"uhrgrevesm\\u00fchlen\", \"uhrgrevesm\\u00fchlen\", \"uhrgrevesm\\u00fchlen\", \"uhrgrevesm\\u00fchlen\", \"uhrgrevesm\\u00fchlen\", \"uhrmo\", \"uhrmo\", \"uhrwasserverband\", \"unterordnung\", \"unterordnung\", \"unterordnung\", \"unterordnung\", \"velgast\", \"velpkeoebisfelder\", \"verdeckter\", \"vereinbarung\", \"vereinbarung\", \"vereinbarung\", \"vereinbarung\", \"vereinbarung\", \"verfahrensfehler\", \"verfahrensfehler\", \"verfahrensfehler\", \"vergleichsgruppe\", \"verkl\\u00e4ren\", \"verleumdete\", \"verleumdete\", \"verleumdungsprozess\", \"verleumdungsprozess\", \"verleumdungsprozess\", \"verleumdungsprozess\", \"verleumdungsprozess\", \"verschlafenen\", \"verschlafenen\", \"verschlafenen\", \"verschlafenen\", \"verstehende\", \"verstopften\", \"verwaltungskosten\", \"verwerfen\", \"verwerfen\", \"vorsfelder\", \"vorsfelder\", \"vorsfelder\", \"vorsfelder\", \"vorsfelder\", \"vorstandssprecher\", \"v\\u00f6hrumkirchvordener\", \"v\\u00f6hrumkirchvordener\", \"wagnerin\", \"wahrenholz\", \"wahrenholz\", \"wahrenholz\", \"wahrenholz\", \"wahrenholz\", \"wasser\", \"wasser\", \"wasser\", \"wasser\", \"wasser\", \"wasserverband\", \"webadresse\", \"weg\", \"weg\", \"weg\", \"weg\", \"weg\", \"werk\", \"werk\", \"werk\", \"werk\", \"werk\", \"windthorstplatz\", \"windthorstplatz\", \"windthorstplatz\", \"windthorstplatz\", \"wit\", \"wochenenden\", \"wochenenden\", \"wochenenden\", \"wochenenden\", \"wochenenden\", \"wohlt\\u00e4tigkeitsorganisation\", \"wohlt\\u00e4tigkeitsorganisation\", \"wohnung\", \"wohnung\", \"wohnung\", \"wohnung\", \"wohnung\", \"wohnungsinhaber\", \"wolgast\", \"w\\u00e4rme\", \"w\\u00e4rme\", \"w\\u00e4rme\", \"w\\u00e4rme\", \"w\\u00e4rme\", \"zahl\", \"zahl\", \"zahl\", \"zahl\", \"zahl\", \"zahlen\", \"zahlen\", \"zahlen\", \"zahlen\", \"zahlen\", \"zeitungsartikel\", \"zufriedengegeben\", \"zufriedengegeben\", \"zufriedengegeben\", \"zweimaligen\", \"zweiraumwohnung\", \"zweist\\u00fcndiges\", \"\\u00e4rzteallgemeiner\", \"\\u00e4rzteallgemeiner\", \"\\u00e4rzteallgemeiner\", \"\\u00e4rzteallgemeiner\", \"\\u00e4rzteallgemeiner\", \"\\u00fcbereinstimmt\", \"\\u00fcbergaben\", \"\\u00fcberlebende\", \"\\u00fcberlebende\"]}, \"R\": 30, \"lambda.step\": 0.01, \"plot.opts\": {\"xlab\": \"PC1\", \"ylab\": \"PC2\"}, \"topic.order\": [1, 3, 2, 5, 4]};\n",
              "\n",
              "function LDAvis_load_lib(url, callback){\n",
              "  var s = document.createElement('script');\n",
              "  s.src = url;\n",
              "  s.async = true;\n",
              "  s.onreadystatechange = s.onload = callback;\n",
              "  s.onerror = function(){console.warn(\"failed to load library \" + url);};\n",
              "  document.getElementsByTagName(\"head\")[0].appendChild(s);\n",
              "}\n",
              "\n",
              "if(typeof(LDAvis) !== \"undefined\"){\n",
              "   // already loaded: just create the visualization\n",
              "   !function(LDAvis){\n",
              "       new LDAvis(\"#\" + \"ldavis_el2221406394264928169195845770\", ldavis_el2221406394264928169195845770_data);\n",
              "   }(LDAvis);\n",
              "}else if(typeof define === \"function\" && define.amd){\n",
              "   // require.js is available: use it to load d3/LDAvis\n",
              "   require.config({paths: {d3: \"https://cdnjs.cloudflare.com/ajax/libs/d3/3.5.5/d3.min\"}});\n",
              "   require([\"d3\"], function(d3){\n",
              "      window.d3 = d3;\n",
              "      LDAvis_load_lib(\"https://cdn.rawgit.com/bmabey/pyLDAvis/files/ldavis.v1.0.0.js\", function(){\n",
              "        new LDAvis(\"#\" + \"ldavis_el2221406394264928169195845770\", ldavis_el2221406394264928169195845770_data);\n",
              "      });\n",
              "    });\n",
              "}else{\n",
              "    // require.js not available: dynamically load d3 & LDAvis\n",
              "    LDAvis_load_lib(\"https://cdnjs.cloudflare.com/ajax/libs/d3/3.5.5/d3.min.js\", function(){\n",
              "         LDAvis_load_lib(\"https://cdn.rawgit.com/bmabey/pyLDAvis/files/ldavis.v1.0.0.js\", function(){\n",
              "                 new LDAvis(\"#\" + \"ldavis_el2221406394264928169195845770\", ldavis_el2221406394264928169195845770_data);\n",
              "            })\n",
              "         });\n",
              "}\n",
              "</script>"
            ]
          },
          "metadata": {},
          "execution_count": 22
        }
      ]
    },
    {
      "cell_type": "markdown",
      "source": [
        "END OF CODE"
      ],
      "metadata": {
        "id": "_gpYl56fBjCO"
      }
    }
  ]
}